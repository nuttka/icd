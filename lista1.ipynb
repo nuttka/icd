{
 "cells": [
  {
   "cell_type": "markdown",
   "metadata": {
    "id": "-uWhXB80U6F4"
   },
   "source": [
    "# Lista 01 - Introdução e Revisão Numpy\n",
    "\n",
    "[NumPy](http://numpy.org) é um pacote incrivelmente poderoso em Python, onipresente em qualquer projeto de ciência de dados. Possui forte integração com o [Pandas](http://pandas.pydata.org), outra ferramenta que iremos abordar na matéria. NumPy adiciona suporte para matrizes multidimensionais e funções matemáticas que permitem que você execute facilmente cálculos de álgebra linear. Este notebook será uma coleção de exemplos de álgebra linear computados usando NumPy. \n",
    "\n",
    "## Numpy \n",
    "\n",
    "Para fazer uso de Numpy precisamos importar a biblioteca"
   ]
  },
  {
   "cell_type": "code",
   "execution_count": 1,
   "metadata": {
    "id": "aWpD9MXeU6F8"
   },
   "outputs": [
    {
     "ename": "ModuleNotFoundError",
     "evalue": "No module named 'numpy'",
     "output_type": "error",
     "traceback": [
      "\u001b[1;31m---------------------------------------------------------------------------\u001b[0m",
      "\u001b[1;31mModuleNotFoundError\u001b[0m                       Traceback (most recent call last)",
      "\u001b[1;32m<ipython-input-1-9f66ab5e5731>\u001b[0m in \u001b[0;36m<module>\u001b[1;34m\u001b[0m\n\u001b[0;32m      1\u001b[0m \u001b[1;31m# -*- coding: utf8\u001b[0m\u001b[1;33m\u001b[0m\u001b[1;33m\u001b[0m\u001b[1;33m\u001b[0m\u001b[0m\n\u001b[0;32m      2\u001b[0m \u001b[1;33m\u001b[0m\u001b[0m\n\u001b[1;32m----> 3\u001b[1;33m \u001b[1;32mimport\u001b[0m \u001b[0mnumpy\u001b[0m \u001b[1;32mas\u001b[0m \u001b[0mnp\u001b[0m\u001b[1;33m\u001b[0m\u001b[1;33m\u001b[0m\u001b[0m\n\u001b[0m",
      "\u001b[1;31mModuleNotFoundError\u001b[0m: No module named 'numpy'"
     ]
    }
   ],
   "source": [
    "# -*- coding: utf8\n",
    "\n",
    "import numpy as np"
   ]
  },
  {
   "cell_type": "markdown",
   "metadata": {
    "id": "DfOodjVhU6F9"
   },
   "source": [
    "Quando pensamos no lado prático de ciência de dados, um aspecto chave que ajuda na implementação de novos algoritmos é a vetorização. De forma simples, vetorização consiste do uso de tipos como **escalar**, **vetor** e **matriz** para realizar uma computação mais eficaz (em tempo de execução).\n",
    "\n",
    "Uma matriz é uma coleção de valores, normalmente representada por uma grade 𝑚 × 𝑛, onde 𝑚 é o número de linhas e 𝑛 é o número de colunas. Os comprimentos das arestas 𝑚 e 𝑛 não precisam ser necessariamente diferentes. Se tivermos 𝑚 = 𝑛, chamamos isso de matriz quadrada. Um caso particularmente interessante de uma matriz é quando 𝑚 = 1 ou 𝑛 = 1. Nesse caso, temos um caso especial de uma matriz que chamamos de vetor. Embora haja um objeto de matriz em NumPy, faremos tudo usando matrizes NumPy porque elas podem ter dimensões maiores que 2. \n",
    "\n",
    "1. **Escalar:** Um vetor de zero dimensões"
   ]
  },
  {
   "cell_type": "code",
   "execution_count": null,
   "metadata": {
    "id": "R3J1ejJQU6F9",
    "outputId": "6863b4ac-66ed-446c-929a-7366c25da063"
   },
   "outputs": [
    {
     "data": {
      "text/plain": [
       "1"
      ]
     },
     "execution_count": 2,
     "metadata": {
      "tags": []
     },
     "output_type": "execute_result"
    }
   ],
   "source": [
    "1"
   ]
  },
  {
   "cell_type": "markdown",
   "metadata": {
    "id": "wRXcKevdU6F_"
   },
   "source": [
    "2. **Vetor:** Representa uma dimensão"
   ]
  },
  {
   "cell_type": "markdown",
   "metadata": {
    "id": "0J8WtveFU6F_"
   },
   "source": [
    "Abaixo vamos criar um vetor simples. Inicialmente, vamos criar uma lista."
   ]
  },
  {
   "cell_type": "code",
   "execution_count": null,
   "metadata": {
    "id": "uzE85FTsU6GA"
   },
   "outputs": [],
   "source": [
    "data_list = [3.5, 5, 2, 8, 4.2]"
   ]
  },
  {
   "cell_type": "markdown",
   "metadata": {
    "id": "Q_12tZX3U6GA"
   },
   "source": [
    "Observe o tipo da mesma."
   ]
  },
  {
   "cell_type": "code",
   "execution_count": null,
   "metadata": {
    "id": "ZDT6C_MzU6GB",
    "outputId": "2dcd83b2-b08b-4d57-88aa-78a20518af4e"
   },
   "outputs": [
    {
     "data": {
      "text/plain": [
       "list"
      ]
     },
     "execution_count": 4,
     "metadata": {
      "tags": []
     },
     "output_type": "execute_result"
    }
   ],
   "source": [
    "type(data_list)"
   ]
  },
  {
   "cell_type": "markdown",
   "metadata": {
    "id": "18fFB4I4U6GB"
   },
   "source": [
    "Embora vetores e listas sejam parecidos, vetores Numpy são otimizados para operações de Álgebra Linear. Ciência de Dados faz bastante uso de tais operações, sendo este um dos motivos da dependência em Numpy.\n",
    "\n",
    "Abaixo criamos um vetor."
   ]
  },
  {
   "cell_type": "code",
   "execution_count": null,
   "metadata": {
    "id": "hPYYNx_LU6GC",
    "outputId": "7ceea98d-50b9-4646-fe71-19bbc4c0f540"
   },
   "outputs": [
    {
     "name": "stdout",
     "output_type": "stream",
     "text": [
      "[3.5 5.  2.  8.  4.2]\n",
      "<class 'numpy.ndarray'>\n"
     ]
    }
   ],
   "source": [
    "data = np.array(data_list)\n",
    "print(data)\n",
    "print(type(data))"
   ]
  },
  {
   "cell_type": "markdown",
   "metadata": {
    "id": "oLxaekJxU6GC"
   },
   "source": [
    "Observe como podemos somar o mesmo com um número. Não é possível fazer tal operação com listas."
   ]
  },
  {
   "cell_type": "code",
   "execution_count": null,
   "metadata": {
    "id": "4vNAZl7TU6GC",
    "outputId": "d6968606-d8e1-460f-f65a-13fcc04de270"
   },
   "outputs": [
    {
     "data": {
      "text/plain": [
       "array([10.5, 12. ,  9. , 15. , 11.2])"
      ]
     },
     "execution_count": 6,
     "metadata": {
      "tags": []
     },
     "output_type": "execute_result"
    }
   ],
   "source": [
    "data + 7"
   ]
  },
  {
   "cell_type": "markdown",
   "metadata": {
    "id": "qWtocKUaU6GD"
   },
   "source": [
    "3. **Matrizes:** Representam duas dimensões."
   ]
  },
  {
   "cell_type": "code",
   "execution_count": null,
   "metadata": {
    "id": "uNKeIj2iU6GD",
    "outputId": "c7f22603-8f8a-4157-bcfc-8861c3908d45"
   },
   "outputs": [
    {
     "data": {
      "text/plain": [
       "array([[2, 4],\n",
       "       [1, 3]])"
      ]
     },
     "execution_count": 7,
     "metadata": {
      "tags": []
     },
     "output_type": "execute_result"
    }
   ],
   "source": [
    "X = np.array([[2, 4],\n",
    "              [1, 3]])\n",
    "X"
   ]
  },
  {
   "cell_type": "markdown",
   "metadata": {
    "id": "Ba7-UdZgU6GD"
   },
   "source": [
    "Podemos indexar as matrizes e os vetores."
   ]
  },
  {
   "cell_type": "code",
   "execution_count": null,
   "metadata": {
    "id": "wxKLVWo5U6GE",
    "outputId": "62c67ca3-3bc1-48be-8f1e-2d980702262a"
   },
   "outputs": [
    {
     "data": {
      "text/plain": [
       "3.5"
      ]
     },
     "execution_count": 8,
     "metadata": {
      "tags": []
     },
     "output_type": "execute_result"
    }
   ],
   "source": [
    "data[0]"
   ]
  },
  {
   "cell_type": "code",
   "execution_count": null,
   "metadata": {
    "id": "dlF3LvBJU6GE",
    "outputId": "0a53635d-ee28-4153-a7aa-1f29376ad773"
   },
   "outputs": [
    {
     "data": {
      "text/plain": [
       "4"
      ]
     },
     "execution_count": 9,
     "metadata": {
      "tags": []
     },
     "output_type": "execute_result"
    }
   ],
   "source": [
    "X[0, 1] # aqui é primeira linha, segunda coluna"
   ]
  },
  {
   "cell_type": "markdown",
   "metadata": {
    "id": "fFCCg3fzU6GF"
   },
   "source": [
    "Podemos também criar vetores/matrizes de números aleatórios"
   ]
  },
  {
   "cell_type": "code",
   "execution_count": null,
   "metadata": {
    "id": "maxcJeHDU6GF",
    "outputId": "4a98fcd3-5c26-466f-c88e-e9cd14a545f3"
   },
   "outputs": [
    {
     "name": "stdout",
     "output_type": "stream",
     "text": [
      "[[-8.28699627e-01 -2.30961904e+00 -9.23109737e-01]\n",
      " [-1.61505056e+00 -1.82539186e-02 -6.32265265e-01]\n",
      " [-3.71359726e-02 -8.50479988e-01  1.73683801e+00]\n",
      " [-1.42512347e-04 -6.58202904e-01  2.88636778e-01]]\n"
     ]
    }
   ],
   "source": [
    "X = np.random.randn(4, 3) # Gera números aleatórios de uma normal\n",
    "print(X)"
   ]
  },
  {
   "cell_type": "markdown",
   "metadata": {
    "id": "I1h0gfxSU6GF"
   },
   "source": [
    "### Indexando\n",
    "\n",
    "Pegando a primeira linha"
   ]
  },
  {
   "cell_type": "code",
   "execution_count": null,
   "metadata": {
    "id": "ZU0uuexWU6GG",
    "outputId": "7ff597c2-f997-4984-8b7b-68f6e5317ae6"
   },
   "outputs": [
    {
     "data": {
      "text/plain": [
       "array([-0.82869963, -2.30961904, -0.92310974])"
      ]
     },
     "execution_count": 11,
     "metadata": {
      "tags": []
     },
     "output_type": "execute_result"
    }
   ],
   "source": [
    "X[0] # observe que 0 é a linha 1, compare com o X[0, 1] de antes."
   ]
  },
  {
   "cell_type": "code",
   "execution_count": null,
   "metadata": {
    "id": "mqsAkWM1U6GG",
    "outputId": "3394f9a4-85b5-4805-f808-11fc01710e9b"
   },
   "outputs": [
    {
     "data": {
      "text/plain": [
       "array([-1.61505056, -0.01825392, -0.63226527])"
      ]
     },
     "execution_count": 12,
     "metadata": {
      "tags": []
     },
     "output_type": "execute_result"
    }
   ],
   "source": [
    "X[1] # segunda"
   ]
  },
  {
   "cell_type": "code",
   "execution_count": null,
   "metadata": {
    "id": "BFKqxp-2U6GG",
    "outputId": "ace397d3-a9ca-47f4-f974-37ec510e426c"
   },
   "outputs": [
    {
     "data": {
      "text/plain": [
       "array([-0.03713597, -0.85047999,  1.73683801])"
      ]
     },
     "execution_count": 13,
     "metadata": {
      "tags": []
     },
     "output_type": "execute_result"
    }
   ],
   "source": [
    "X[2] # terceira"
   ]
  },
  {
   "cell_type": "markdown",
   "metadata": {
    "id": "cev-0ZCSU6GH"
   },
   "source": [
    "Observe como todos os tipos retornados são `array`. Array é o nome genérico de Numpy para vetores e matrizes. "
   ]
  },
  {
   "cell_type": "markdown",
   "metadata": {
    "id": "L8rtMESnU6GH"
   },
   "source": [
    "`X[:, c]` pega uma coluna"
   ]
  },
  {
   "cell_type": "code",
   "execution_count": null,
   "metadata": {
    "id": "VaEzirLhU6GH",
    "outputId": "7ba835d6-71c9-44c9-8e87-f012c9a7e4c7"
   },
   "outputs": [
    {
     "data": {
      "text/plain": [
       "array([-8.28699627e-01, -1.61505056e+00, -3.71359726e-02, -1.42512347e-04])"
      ]
     },
     "execution_count": 14,
     "metadata": {
      "tags": []
     },
     "output_type": "execute_result"
    }
   ],
   "source": [
    "X[:, 0]"
   ]
  },
  {
   "cell_type": "code",
   "execution_count": null,
   "metadata": {
    "id": "JSWeI7IlU6GH",
    "outputId": "e3d8bb21-a717-4721-ea44-bb7520439239"
   },
   "outputs": [
    {
     "data": {
      "text/plain": [
       "array([-2.30961904, -0.01825392, -0.85047999, -0.6582029 ])"
      ]
     },
     "execution_count": 15,
     "metadata": {
      "tags": []
     },
     "output_type": "execute_result"
    }
   ],
   "source": [
    "X[:, 1]"
   ]
  },
  {
   "cell_type": "markdown",
   "metadata": {
    "id": "BtyJVvK6U6GI"
   },
   "source": [
    "`X[um_vetor]` pega as linhas da matriz. `X[:, um_vetor]` pega as colunas"
   ]
  },
  {
   "cell_type": "code",
   "execution_count": null,
   "metadata": {
    "id": "CQFkcEGCU6GI",
    "outputId": "2e4182cd-f6d5-4bbe-c3e5-912ef2b4a0d7"
   },
   "outputs": [
    {
     "data": {
      "text/plain": [
       "array([[-0.82869963, -2.30961904, -0.92310974],\n",
       "       [-0.82869963, -2.30961904, -0.92310974],\n",
       "       [-1.61505056, -0.01825392, -0.63226527]])"
      ]
     },
     "execution_count": 16,
     "metadata": {
      "tags": []
     },
     "output_type": "execute_result"
    }
   ],
   "source": [
    "X[[0, 0, 1]] # observe que pego a primeira linha, indexada por 0, duas vezes"
   ]
  },
  {
   "cell_type": "markdown",
   "metadata": {
    "id": "ZOJWpfIKU6GI"
   },
   "source": [
    "Abaixo pego a segunda a primeira coluna"
   ]
  },
  {
   "cell_type": "code",
   "execution_count": null,
   "metadata": {
    "id": "euOYII-TU6GJ",
    "outputId": "23b1d09e-614f-48a1-b5c1-3717ea27f3de"
   },
   "outputs": [
    {
     "data": {
      "text/plain": [
       "array([[-2.30961904e+00, -8.28699627e-01],\n",
       "       [-1.82539186e-02, -1.61505056e+00],\n",
       "       [-8.50479988e-01, -3.71359726e-02],\n",
       "       [-6.58202904e-01, -1.42512347e-04]])"
      ]
     },
     "execution_count": 17,
     "metadata": {
      "tags": []
     },
     "output_type": "execute_result"
    }
   ],
   "source": [
    "X[:, [1, 0]]"
   ]
  },
  {
   "cell_type": "markdown",
   "metadata": {
    "id": "BXvWj6awU6GJ"
   },
   "source": [
    "### Indexação Booleana\n",
    "\n",
    "`X[vetor_booleano]` retorna as linhas (ou colunas quando X[:, vetor_booleano]) onde o vetor é true"
   ]
  },
  {
   "cell_type": "code",
   "execution_count": null,
   "metadata": {
    "id": "YN2vVWZcU6GJ",
    "outputId": "dfdb7359-48bb-413f-8bf4-07121578369c"
   },
   "outputs": [
    {
     "data": {
      "text/plain": [
       "array([[-0.82869963, -2.30961904, -0.92310974],\n",
       "       [-0.03713597, -0.85047999,  1.73683801]])"
      ]
     },
     "execution_count": 18,
     "metadata": {
      "tags": []
     },
     "output_type": "execute_result"
    }
   ],
   "source": [
    "X[[True, False, True, False]]"
   ]
  },
  {
   "cell_type": "code",
   "execution_count": null,
   "metadata": {
    "id": "nTrIdF5fU6GK",
    "outputId": "5e7d7f64-94b8-47f7-c171-0a8cfa220533"
   },
   "outputs": [
    {
     "data": {
      "text/plain": [
       "array([[-2.30961904, -0.92310974],\n",
       "       [-0.01825392, -0.63226527],\n",
       "       [-0.85047999,  1.73683801],\n",
       "       [-0.6582029 ,  0.28863678]])"
      ]
     },
     "execution_count": 19,
     "metadata": {
      "tags": []
     },
     "output_type": "execute_result"
    }
   ],
   "source": [
    "X[:, [False, True, True]]"
   ]
  },
  {
   "cell_type": "markdown",
   "metadata": {
    "id": "_RuuuN9kU6GK"
   },
   "source": [
    "### Reshape, Flatten e Ravel\n",
    "\n",
    "Todo vetor ou matriz pode ser redimensionado. Observe como uma matriz abaixo de 9x8=72 elementos. Podemos redimensionar os mesmos para outros arrays de tamanho 72."
   ]
  },
  {
   "cell_type": "code",
   "execution_count": null,
   "metadata": {
    "id": "10-xQ4J7U6GK"
   },
   "outputs": [],
   "source": [
    "X = np.random.randn(9, 8)"
   ]
  },
  {
   "cell_type": "markdown",
   "metadata": {
    "id": "HKH5wpbPU6GK"
   },
   "source": [
    "Criando uma matriz de 18x4."
   ]
  },
  {
   "cell_type": "code",
   "execution_count": null,
   "metadata": {
    "id": "hZUUeuqFU6GL",
    "outputId": "419de318-8ae3-40c5-8c60-47dc92497e75"
   },
   "outputs": [
    {
     "data": {
      "text/plain": [
       "array([[-0.27317993, -0.29414633, -0.6022491 , -0.63745675],\n",
       "       [ 0.28478323, -0.61757506, -0.06574421,  1.79104517],\n",
       "       [-1.41989931,  2.01772199,  0.79909735,  2.00704578],\n",
       "       [ 0.40912025,  1.28484141, -0.04231897,  0.31686876],\n",
       "       [ 0.58579576,  0.59732797, -0.77674338, -0.8509191 ],\n",
       "       [ 1.48236667, -1.44625812, -0.90798637,  0.76169099],\n",
       "       [-0.00891063,  1.03867245,  2.24641729, -0.36329358],\n",
       "       [-0.00648919,  0.0955519 , -1.10820027, -1.5757523 ],\n",
       "       [-0.05259193, -0.66730637,  0.11442752, -1.20559619],\n",
       "       [ 0.94186158, -0.88679058, -1.3059159 , -2.86664027],\n",
       "       [ 1.50678901, -0.92955681, -1.45924939,  0.3378637 ],\n",
       "       [ 3.7549434 ,  0.31710889,  0.41401744,  0.16457517],\n",
       "       [ 0.08452597,  0.38747958,  0.03474171, -1.43348703],\n",
       "       [-1.7036983 ,  0.47424453,  1.65152842, -0.73665845],\n",
       "       [-0.8504203 , -0.14251315, -0.54545833,  0.16766592],\n",
       "       [ 0.51913773, -0.63864761, -2.2091628 ,  0.86677625],\n",
       "       [-0.45556057,  0.08022124,  0.11213436,  1.52079991],\n",
       "       [ 0.32564504, -0.82042081, -0.39942851,  0.24143379]])"
      ]
     },
     "execution_count": 21,
     "metadata": {
      "tags": []
     },
     "output_type": "execute_result"
    }
   ],
   "source": [
    "X.reshape((18, 4))"
   ]
  },
  {
   "cell_type": "markdown",
   "metadata": {
    "id": "wXqujgSMU6GL"
   },
   "source": [
    "Ou um vetor de 72"
   ]
  },
  {
   "cell_type": "code",
   "execution_count": null,
   "metadata": {
    "id": "Do7tKdshU6GL",
    "outputId": "61cef64b-05e7-48b5-e0c2-a58fe133c516"
   },
   "outputs": [
    {
     "data": {
      "text/plain": [
       "array([-0.27317993, -0.29414633, -0.6022491 , -0.63745675,  0.28478323,\n",
       "       -0.61757506, -0.06574421,  1.79104517, -1.41989931,  2.01772199,\n",
       "        0.79909735,  2.00704578,  0.40912025,  1.28484141, -0.04231897,\n",
       "        0.31686876,  0.58579576,  0.59732797, -0.77674338, -0.8509191 ,\n",
       "        1.48236667, -1.44625812, -0.90798637,  0.76169099, -0.00891063,\n",
       "        1.03867245,  2.24641729, -0.36329358, -0.00648919,  0.0955519 ,\n",
       "       -1.10820027, -1.5757523 , -0.05259193, -0.66730637,  0.11442752,\n",
       "       -1.20559619,  0.94186158, -0.88679058, -1.3059159 , -2.86664027,\n",
       "        1.50678901, -0.92955681, -1.45924939,  0.3378637 ,  3.7549434 ,\n",
       "        0.31710889,  0.41401744,  0.16457517,  0.08452597,  0.38747958,\n",
       "        0.03474171, -1.43348703, -1.7036983 ,  0.47424453,  1.65152842,\n",
       "       -0.73665845, -0.8504203 , -0.14251315, -0.54545833,  0.16766592,\n",
       "        0.51913773, -0.63864761, -2.2091628 ,  0.86677625, -0.45556057,\n",
       "        0.08022124,  0.11213436,  1.52079991,  0.32564504, -0.82042081,\n",
       "       -0.39942851,  0.24143379])"
      ]
     },
     "execution_count": 22,
     "metadata": {
      "tags": []
     },
     "output_type": "execute_result"
    }
   ],
   "source": [
    "X.reshape(72)"
   ]
  },
  {
   "cell_type": "markdown",
   "metadata": {
    "id": "s1brbNLaU6GL"
   },
   "source": [
    "A chamada flatten e ravel faz a mesma coisa, criam uma visão de uma dimensão da matriz."
   ]
  },
  {
   "cell_type": "code",
   "execution_count": null,
   "metadata": {
    "id": "zCsasUybU6GM",
    "outputId": "559a6f2b-e0c3-4011-bbf6-08eddf950b64"
   },
   "outputs": [
    {
     "data": {
      "text/plain": [
       "array([-0.27317993, -0.29414633, -0.6022491 , -0.63745675,  0.28478323,\n",
       "       -0.61757506, -0.06574421,  1.79104517, -1.41989931,  2.01772199,\n",
       "        0.79909735,  2.00704578,  0.40912025,  1.28484141, -0.04231897,\n",
       "        0.31686876,  0.58579576,  0.59732797, -0.77674338, -0.8509191 ,\n",
       "        1.48236667, -1.44625812, -0.90798637,  0.76169099, -0.00891063,\n",
       "        1.03867245,  2.24641729, -0.36329358, -0.00648919,  0.0955519 ,\n",
       "       -1.10820027, -1.5757523 , -0.05259193, -0.66730637,  0.11442752,\n",
       "       -1.20559619,  0.94186158, -0.88679058, -1.3059159 , -2.86664027,\n",
       "        1.50678901, -0.92955681, -1.45924939,  0.3378637 ,  3.7549434 ,\n",
       "        0.31710889,  0.41401744,  0.16457517,  0.08452597,  0.38747958,\n",
       "        0.03474171, -1.43348703, -1.7036983 ,  0.47424453,  1.65152842,\n",
       "       -0.73665845, -0.8504203 , -0.14251315, -0.54545833,  0.16766592,\n",
       "        0.51913773, -0.63864761, -2.2091628 ,  0.86677625, -0.45556057,\n",
       "        0.08022124,  0.11213436,  1.52079991,  0.32564504, -0.82042081,\n",
       "       -0.39942851,  0.24143379])"
      ]
     },
     "execution_count": 23,
     "metadata": {
      "tags": []
     },
     "output_type": "execute_result"
    }
   ],
   "source": [
    "X.flatten()"
   ]
  },
  {
   "cell_type": "code",
   "execution_count": null,
   "metadata": {
    "id": "LPdDI12UU6GM",
    "outputId": "43959761-05ac-4238-ffc8-7bed17081fcf"
   },
   "outputs": [
    {
     "data": {
      "text/plain": [
       "array([-0.27317993, -0.29414633, -0.6022491 , -0.63745675,  0.28478323,\n",
       "       -0.61757506, -0.06574421,  1.79104517, -1.41989931,  2.01772199,\n",
       "        0.79909735,  2.00704578,  0.40912025,  1.28484141, -0.04231897,\n",
       "        0.31686876,  0.58579576,  0.59732797, -0.77674338, -0.8509191 ,\n",
       "        1.48236667, -1.44625812, -0.90798637,  0.76169099, -0.00891063,\n",
       "        1.03867245,  2.24641729, -0.36329358, -0.00648919,  0.0955519 ,\n",
       "       -1.10820027, -1.5757523 , -0.05259193, -0.66730637,  0.11442752,\n",
       "       -1.20559619,  0.94186158, -0.88679058, -1.3059159 , -2.86664027,\n",
       "        1.50678901, -0.92955681, -1.45924939,  0.3378637 ,  3.7549434 ,\n",
       "        0.31710889,  0.41401744,  0.16457517,  0.08452597,  0.38747958,\n",
       "        0.03474171, -1.43348703, -1.7036983 ,  0.47424453,  1.65152842,\n",
       "       -0.73665845, -0.8504203 , -0.14251315, -0.54545833,  0.16766592,\n",
       "        0.51913773, -0.63864761, -2.2091628 ,  0.86677625, -0.45556057,\n",
       "        0.08022124,  0.11213436,  1.52079991,  0.32564504, -0.82042081,\n",
       "       -0.39942851,  0.24143379])"
      ]
     },
     "execution_count": 24,
     "metadata": {
      "tags": []
     },
     "output_type": "execute_result"
    }
   ],
   "source": [
    "X.ravel()"
   ]
  },
  {
   "cell_type": "markdown",
   "metadata": {
    "id": "QLhudhqRU6GM"
   },
   "source": [
    "As funções incorporadas ao NumPy podem ser facilmente chamadas em matrizes. A maioria das funções são aplicadas a um elemento de array (como a multiplicação escalar). Por exemplo, se chamarmos `log()` em um array, o logaritmo será obtido de cada elemento. "
   ]
  },
  {
   "cell_type": "code",
   "execution_count": null,
   "metadata": {
    "id": "JZjJesOuU6GM",
    "outputId": "54d5b20d-b064-4bf5-8903-ac95d2de8314"
   },
   "outputs": [
    {
     "data": {
      "text/plain": [
       "array([1.25276297, 1.60943791, 0.69314718, 2.07944154, 1.43508453])"
      ]
     },
     "execution_count": 25,
     "metadata": {
      "tags": []
     },
     "output_type": "execute_result"
    }
   ],
   "source": [
    "np.log(data)"
   ]
  },
  {
   "cell_type": "markdown",
   "metadata": {
    "id": "WZED-omBU6GN"
   },
   "source": [
    "Mean tira a média"
   ]
  },
  {
   "cell_type": "code",
   "execution_count": null,
   "metadata": {
    "id": "9GJ-_FDQU6GN",
    "outputId": "f90a4215-cf92-4573-f62c-8be7a58009c5"
   },
   "outputs": [
    {
     "data": {
      "text/plain": [
       "4.54"
      ]
     },
     "execution_count": 26,
     "metadata": {
      "tags": []
     },
     "output_type": "execute_result"
    }
   ],
   "source": [
    "np.mean(data)"
   ]
  },
  {
   "cell_type": "markdown",
   "metadata": {
    "id": "mUyjX-BFU6GN"
   },
   "source": [
    "Algumas funções podem ser chamadas direto no vetor, nem todas serão assim. O importante é ler a [documentação](http://numpy.org) e aprender. Com um pouco de prática você vai se acostumando."
   ]
  },
  {
   "cell_type": "code",
   "execution_count": null,
   "metadata": {
    "id": "VBEgLAhYU6GO",
    "outputId": "0bf4c0e4-5b4a-4a2e-cc67-e21ec2f982cc"
   },
   "outputs": [
    {
     "data": {
      "text/plain": [
       "4.54"
      ]
     },
     "execution_count": 27,
     "metadata": {
      "tags": []
     },
     "output_type": "execute_result"
    }
   ],
   "source": [
    "data.mean()"
   ]
  },
  {
   "cell_type": "markdown",
   "metadata": {
    "id": "sF5LggxiU6GO"
   },
   "source": [
    "Abaixo temos a mediana,"
   ]
  },
  {
   "cell_type": "code",
   "execution_count": null,
   "metadata": {
    "id": "gcq_Us0WU6GO",
    "outputId": "2542100a-8eeb-4b9f-f966-d581243908c9"
   },
   "outputs": [
    {
     "data": {
      "text/plain": [
       "4.2"
      ]
     },
     "execution_count": 28,
     "metadata": {
      "tags": []
     },
     "output_type": "execute_result"
    }
   ],
   "source": [
    "np.median(data) # por exemplo, não existe data.median(). Faz sentido? Não. Mas é assim."
   ]
  },
  {
   "cell_type": "markdown",
   "metadata": {
    "id": "aJOn3_o1U6GO"
   },
   "source": [
    "Em matrizes as funções operam em todos os elemntos."
   ]
  },
  {
   "cell_type": "code",
   "execution_count": null,
   "metadata": {
    "id": "dXpDrD4aU6GO",
    "outputId": "cbccf552-8766-4b70-edc3-5c0fedc1f1d4"
   },
   "outputs": [
    {
     "data": {
      "text/plain": [
       "0.01412626452440558"
      ]
     },
     "execution_count": 29,
     "metadata": {
      "tags": []
     },
     "output_type": "execute_result"
    }
   ],
   "source": [
    "np.median(X)"
   ]
  },
  {
   "cell_type": "code",
   "execution_count": null,
   "metadata": {
    "id": "NESO-S9DU6GP",
    "outputId": "8929f376-6e66-4186-b7ea-e23e3ba7bbe1"
   },
   "outputs": [
    {
     "data": {
      "text/plain": [
       "-0.00791608029237454"
      ]
     },
     "execution_count": 30,
     "metadata": {
      "tags": []
     },
     "output_type": "execute_result"
    }
   ],
   "source": [
    "X.mean()"
   ]
  },
  {
   "cell_type": "code",
   "execution_count": null,
   "metadata": {
    "id": "yp-CQNEZU6GP",
    "outputId": "97824822-befd-48c8-c1ed-243bc0f49949"
   },
   "outputs": [
    {
     "data": {
      "text/plain": [
       "array([[2.27488703, 2.27272917, 2.24047039, 2.23671697, 2.33066545,\n",
       "        2.23883825, 2.29598897, 2.46734036],\n",
       "       [2.14944565, 2.48638239, 2.37946255, 2.48549363, 2.34268237,\n",
       "        2.42346036, 2.29834422, 2.3337803 ],\n",
       "       [2.35951308, 2.36060189, 2.22172819, 2.21365343, 2.44081253,\n",
       "        2.14636883, 2.2073964 , 2.3759927 ],\n",
       "       [2.30169363, 2.40140478, 2.50523343, 2.26557939, 2.30193596,\n",
       "        2.31209492, 2.18512947, 2.13111418],\n",
       "       [2.29731202, 2.23352368, 2.31396287, 2.17411559, 2.39259595,\n",
       "        2.20972495, 2.16264281, 1.96478233],\n",
       "       [2.44293721, 2.20502113, 2.1448489 , 2.33581324, 2.62139828,\n",
       "        2.33380357, 2.34315273, 2.31890865],\n",
       "       [2.31100217, 2.34060119, 2.30605324, 2.14786076, 2.11580984,\n",
       "        2.34891934, 2.45543737, 2.22606484],\n",
       "       [2.21370794, 2.28823125, 2.24649523, 2.31921268, 2.35319624,\n",
       "        2.23658977, 2.05294832, 2.38571008],\n",
       "       [2.25595873, 2.31057521, 2.31373612, 2.44415409, 2.33463061,\n",
       "        2.21698136, 2.26182263, 2.32644163]])"
      ]
     },
     "execution_count": 31,
     "metadata": {
      "tags": []
     },
     "output_type": "execute_result"
    }
   ],
   "source": [
    "np.log(X + 10)"
   ]
  },
  {
   "cell_type": "markdown",
   "metadata": {
    "id": "HsIJ1cBMU6GP"
   },
   "source": [
    "Porém, caso você queira a media de linhas ou colunas use `axis`. Antes, vamos ver o tamanho do vetor."
   ]
  },
  {
   "cell_type": "code",
   "execution_count": null,
   "metadata": {
    "id": "FrUiVXI-U6GQ",
    "outputId": "622fb977-b860-4266-bd93-91f96686f582"
   },
   "outputs": [
    {
     "data": {
      "text/plain": [
       "(9, 8)"
      ]
     },
     "execution_count": 32,
     "metadata": {
      "tags": []
     },
     "output_type": "execute_result"
    }
   ],
   "source": [
    "X.shape"
   ]
  },
  {
   "cell_type": "code",
   "execution_count": null,
   "metadata": {
    "id": "yhXRknq8U6GQ",
    "outputId": "676c4712-c7d3-44e1-ca3c-3da75a9b8948"
   },
   "outputs": [
    {
     "data": {
      "text/plain": [
       "array([-0.09816133,  0.23198895, -0.00854244, -0.0508197 ,  0.66751894,\n",
       "       -0.24866061, -0.44146791, -0.11518455])"
      ]
     },
     "execution_count": 33,
     "metadata": {
      "tags": []
     },
     "output_type": "execute_result"
    }
   ],
   "source": [
    "np.mean(X, axis=0) # média das colunas. como temos 8 colunas, temos 8 elementos."
   ]
  },
  {
   "cell_type": "code",
   "execution_count": null,
   "metadata": {
    "id": "NUDpCHuZU6GQ",
    "outputId": "9a616c33-c543-4e3b-d8d1-0e258f8db21f"
   },
   "outputs": [
    {
     "data": {
      "text/plain": [
       "(8,)"
      ]
     },
     "execution_count": 34,
     "metadata": {
      "tags": []
     },
     "output_type": "execute_result"
    }
   ],
   "source": [
    "np.mean(X, axis=0).shape"
   ]
  },
  {
   "cell_type": "code",
   "execution_count": null,
   "metadata": {
    "id": "QWNOpzcdU6GQ",
    "outputId": "1ff807d4-cd5e-4f5f-aab0-31913627a271"
   },
   "outputs": [
    {
     "data": {
      "text/plain": [
       "array([-0.05181537,  0.67155966, -0.0693407 ,  0.03974946, -0.74106902,\n",
       "        0.51331143, -0.15516545, -0.35407779,  0.07560306])"
      ]
     },
     "execution_count": 35,
     "metadata": {
      "tags": []
     },
     "output_type": "execute_result"
    }
   ],
   "source": [
    "np.mean(X, axis=1) # média das linhas"
   ]
  },
  {
   "cell_type": "code",
   "execution_count": null,
   "metadata": {
    "id": "oVDkqidEU6GR",
    "outputId": "22f69a2e-a7f8-4acd-e858-c9956f403f6c"
   },
   "outputs": [
    {
     "data": {
      "text/plain": [
       "(9,)"
      ]
     },
     "execution_count": 36,
     "metadata": {
      "tags": []
     },
     "output_type": "execute_result"
    }
   ],
   "source": [
    "np.mean(X, axis=1).shape"
   ]
  },
  {
   "cell_type": "markdown",
   "metadata": {
    "id": "F5ACUuyuU6GR"
   },
   "source": [
    "Lembre-se que eixo 0 é coluna. Eixo 1 é linas."
   ]
  },
  {
   "cell_type": "markdown",
   "metadata": {
    "id": "RgEP3BNUU6GR"
   },
   "source": [
    "### Multiplicação de Matrizes"
   ]
  },
  {
   "cell_type": "markdown",
   "metadata": {
    "id": "9N5qGeQcU6GS"
   },
   "source": [
    "Para transpor uma matriz fazemos uso de .T"
   ]
  },
  {
   "cell_type": "code",
   "execution_count": null,
   "metadata": {
    "id": "zm2sHnLGU6GS",
    "outputId": "b27838c4-f339-48e6-e5e1-715cbfc9e1cf"
   },
   "outputs": [
    {
     "data": {
      "text/plain": [
       "(9, 8)"
      ]
     },
     "execution_count": 37,
     "metadata": {
      "tags": []
     },
     "output_type": "execute_result"
    }
   ],
   "source": [
    "X.shape"
   ]
  },
  {
   "cell_type": "code",
   "execution_count": null,
   "metadata": {
    "id": "T5iJ8_jUU6GS",
    "outputId": "625b9918-c073-4971-f7d4-5ffaa0880172"
   },
   "outputs": [
    {
     "data": {
      "text/plain": [
       "(8, 9)"
      ]
     },
     "execution_count": 38,
     "metadata": {
      "tags": []
     },
     "output_type": "execute_result"
    }
   ],
   "source": [
    "X.T.shape"
   ]
  },
  {
   "cell_type": "code",
   "execution_count": null,
   "metadata": {
    "id": "g57yhuf3U6GT",
    "outputId": "0a18389f-264c-4533-d0dd-14ce0322a51b"
   },
   "outputs": [
    {
     "data": {
      "text/plain": [
       "array([[-0.27317993, -1.41989931,  0.58579576, -0.00891063, -0.05259193,\n",
       "         1.50678901,  0.08452597, -0.8504203 , -0.45556057],\n",
       "       [-0.29414633,  2.01772199,  0.59732797,  1.03867245, -0.66730637,\n",
       "        -0.92955681,  0.38747958, -0.14251315,  0.08022124],\n",
       "       [-0.6022491 ,  0.79909735, -0.77674338,  2.24641729,  0.11442752,\n",
       "        -1.45924939,  0.03474171, -0.54545833,  0.11213436],\n",
       "       [-0.63745675,  2.00704578, -0.8509191 , -0.36329358, -1.20559619,\n",
       "         0.3378637 , -1.43348703,  0.16766592,  1.52079991],\n",
       "       [ 0.28478323,  0.40912025,  1.48236667, -0.00648919,  0.94186158,\n",
       "         3.7549434 , -1.7036983 ,  0.51913773,  0.32564504],\n",
       "       [-0.61757506,  1.28484141, -1.44625812,  0.0955519 , -0.88679058,\n",
       "         0.31710889,  0.47424453, -0.63864761, -0.82042081],\n",
       "       [-0.06574421, -0.04231897, -0.90798637, -1.10820027, -1.3059159 ,\n",
       "         0.41401744,  1.65152842, -2.2091628 , -0.39942851],\n",
       "       [ 1.79104517,  0.31686876,  0.76169099, -1.5757523 , -2.86664027,\n",
       "         0.16457517, -0.73665845,  0.86677625,  0.24143379]])"
      ]
     },
     "execution_count": 39,
     "metadata": {
      "tags": []
     },
     "output_type": "execute_result"
    }
   ],
   "source": [
    "X.T"
   ]
  },
  {
   "cell_type": "markdown",
   "metadata": {
    "id": "IUEw8x-VU6GT"
   },
   "source": [
    "Para multiplicar matrizes, do ponto de visto de multiplicação matricial como definido na álgebra linear, fazemos uso de `@`."
   ]
  },
  {
   "cell_type": "code",
   "execution_count": null,
   "metadata": {
    "id": "zXh-4_rHU6GT",
    "outputId": "8d14bdd8-1861-4d42-cb71-7df1b4d30f15"
   },
   "outputs": [
    {
     "data": {
      "text/plain": [
       "array([[ 4.60486997, -2.07294499,  3.41373158, -4.23465062, -3.32228533,\n",
       "         1.66630803, -1.45023698,  2.73578912,  0.12196485],\n",
       "       [-2.07294499, 12.67449894, -2.92702136,  2.8420691 , -5.20714587,\n",
       "        -2.52476435, -2.57850786,  0.58057083,  3.12315919],\n",
       "       [ 3.41373158, -2.92702136,  7.7210369 , -1.16236568,  2.1885472 ,\n",
       "         6.03040284, -3.79829355,  4.05701847,  0.61571484],\n",
       "       [-4.23465062,  2.8420691 , -1.16236568,  9.97756818,  5.87587812,\n",
       "        -5.09196838,  0.38746981, -0.40870831, -0.23151235],\n",
       "       [-3.32228533, -5.20714587,  2.1885472 ,  5.87587812, 13.51116309,\n",
       "         2.20972677, -0.60105706,  1.33082004, -0.98644245],\n",
       "       [ 1.66630803, -2.52476435,  6.03040284, -5.09196838,  2.20972677,\n",
       "        19.77670308, -6.45221918,  0.67850795,  0.4261668 ],\n",
       "       [-1.45023698, -2.57850786, -3.79829355,  0.38746981, -0.60105706,\n",
       "        -6.45221918,  8.61108467, -5.86074302, -3.96497656],\n",
       "       [ 2.73578912,  0.58057083,  4.05701847, -0.40870831,  1.33082004,\n",
       "         0.67850795, -5.86074302,  7.37823746,  2.35449317],\n",
       "       [ 0.12196485,  3.12315919,  0.61571484, -0.23151235, -0.98644245,\n",
       "         0.4261668 , -3.96497656,  2.35449317,  3.53634576]])"
      ]
     },
     "execution_count": 40,
     "metadata": {
      "tags": []
     },
     "output_type": "execute_result"
    }
   ],
   "source": [
    "X @ X.T"
   ]
  },
  {
   "cell_type": "markdown",
   "metadata": {
    "id": "wq-zP5XEU6GT"
   },
   "source": [
    "O uso de `*` realiza uma operação ponto a ponto"
   ]
  },
  {
   "cell_type": "code",
   "execution_count": null,
   "metadata": {
    "id": "amZPWtTSU6GT",
    "outputId": "341e79c5-190b-4d3b-98e5-fdb153e4fdd9"
   },
   "outputs": [
    {
     "data": {
      "text/plain": [
       "array([[7.46272751e-02, 8.65220619e-02, 3.62703977e-01, 4.06351107e-01,\n",
       "        8.11014905e-02, 3.81398953e-01, 4.32230071e-03, 3.20784280e+00],\n",
       "       [2.01611404e+00, 4.07120203e+00, 6.38556569e-01, 4.02823278e+00,\n",
       "        1.67379376e-01, 1.65081744e+00, 1.79089542e-03, 1.00405808e-01],\n",
       "       [3.43156675e-01, 3.56800704e-01, 6.03330282e-01, 7.24063310e-01,\n",
       "        2.19741095e+00, 2.09166256e+00, 8.24439255e-01, 5.80173161e-01],\n",
       "       [7.93994158e-05, 1.07884046e+00, 5.04639066e+00, 1.31982226e-01,\n",
       "        4.21095331e-05, 9.13016567e-03, 1.22810784e+00, 2.48299533e+00],\n",
       "       [2.76591069e-03, 4.45297797e-01, 1.30936574e-02, 1.45346218e+00,\n",
       "        8.87103239e-01, 7.86397538e-01, 1.70541634e+00, 8.21762643e+00],\n",
       "       [2.27041312e+00, 8.64075856e-01, 2.12940879e+00, 1.14151877e-01,\n",
       "        1.40996000e+01, 1.00558050e-01, 1.71410442e-01, 2.70849850e-02],\n",
       "       [7.14463932e-03, 1.50140427e-01, 1.20698675e-03, 2.05488506e+00,\n",
       "        2.90258790e+00, 2.24907874e-01, 2.72754611e+00, 5.42665677e-01],\n",
       "       [7.23214693e-01, 2.03099971e-02, 2.97524794e-01, 2.81118613e-02,\n",
       "        2.69503985e-01, 4.07870773e-01, 4.88040029e+00, 7.51301065e-01],\n",
       "       [2.07535429e-01, 6.43544790e-03, 1.25741155e-02, 2.31283236e+00,\n",
       "        1.06044690e-01, 6.73090312e-01, 1.59543135e-01, 5.82902761e-02]])"
      ]
     },
     "execution_count": 41,
     "metadata": {
      "tags": []
     },
     "output_type": "execute_result"
    }
   ],
   "source": [
    "X * X"
   ]
  },
  {
   "cell_type": "markdown",
   "metadata": {
    "id": "zDaiWBb5U6GU"
   },
   "source": [
    "Observe a diferença de tamanhos"
   ]
  },
  {
   "cell_type": "code",
   "execution_count": null,
   "metadata": {
    "id": "4B-CqvutU6GU",
    "outputId": "a4adc79e-f56b-463c-944e-4d9eb0adbf4a"
   },
   "outputs": [
    {
     "data": {
      "text/plain": [
       "(9, 8)"
      ]
     },
     "execution_count": 42,
     "metadata": {
      "tags": []
     },
     "output_type": "execute_result"
    }
   ],
   "source": [
    "(X * X).shape"
   ]
  },
  {
   "cell_type": "code",
   "execution_count": null,
   "metadata": {
    "id": "1EL47kRWU6GU",
    "outputId": "7f4b1c7f-e4c0-4096-9776-022fb5c117c4"
   },
   "outputs": [
    {
     "data": {
      "text/plain": [
       "(9, 9)"
      ]
     },
     "execution_count": 43,
     "metadata": {
      "tags": []
     },
     "output_type": "execute_result"
    }
   ],
   "source": [
    "(X @ X.T).shape"
   ]
  },
  {
   "cell_type": "markdown",
   "metadata": {
    "id": "mqbfbBiiU6GV"
   },
   "source": [
    "**Pense:** Para o nosso `X` de tamanho `(9, 8)`, qual o motivo de `X * X.T` não funcionar? Qual o motivo de `X @ X` não funcionar?"
   ]
  },
  {
   "cell_type": "markdown",
   "metadata": {
    "id": "2_zLCVHfU6GV"
   },
   "source": [
    "## Correção Automática\n",
    "\n",
    "Nossa correção automática depende das funções abaixo. Tais funções comparam valores que serão computados pelo seu código com uma saída esperada. Normalmente, vocês não fazer uso de tais funções em notebooks como este. Porém, elas são chave em ambientes de testes automáticos (fora do nosso escopo).\n",
    "\n",
    "Observe como algumas funções comparam valores e outras comparam vetores. Além do mais, temos funções para comparar dentro de algumas casas decimais."
   ]
  },
  {
   "cell_type": "code",
   "execution_count": null,
   "metadata": {
    "id": "z7yr1nDXU6GV"
   },
   "outputs": [],
   "source": [
    "from numpy.testing import assert_almost_equal\n",
    "from numpy.testing import assert_equal\n",
    "\n",
    "from numpy.testing import assert_array_almost_equal\n",
    "from numpy.testing import assert_array_equal"
   ]
  },
  {
   "cell_type": "code",
   "execution_count": null,
   "metadata": {
    "id": "1-LaUCQSU6GV"
   },
   "outputs": [],
   "source": [
    "# caso você mude um dos valores vamos receber um erro!\n",
    "assert_array_equal(2, 2)\n",
    "\n",
    "# caso você mude um dos valores vamos receber um erro!\n",
    "assert_array_equal([1, 2], [1, 2])\n",
    "\n",
    "# caso você mude um dos valores vamos receber um erro!\n",
    "assert_almost_equal(3.1415, 3.14, 1)"
   ]
  },
  {
   "cell_type": "markdown",
   "metadata": {
    "id": "A7YkPYTmU6GW"
   },
   "source": [
    "Caso você mude um dos valores abaixo vamos receber um erro! Como o abaixo.\n",
    "\n",
    "```\n",
    "-----------------------------------------------------------------------\n",
    "AssertionError                        Traceback (most recent call last)\n",
    "<ipython-input-10-396672d880f2> in <module>\n",
    "----> 1 assert_equal(2, 3) # caso você mude um dos valores vamos receber um erro!\n",
    "\n",
    "~/miniconda3/lib/python3.7/site-packages/numpy/testing/_private/utils.py in assert_equal(actual, desired, err_msg, verbose)\n",
    "    413         # Explicitly use __eq__ for comparison, gh-2552\n",
    "    414         if not (desired == actual):\n",
    "--> 415             raise AssertionError(msg)\n",
    "    416 \n",
    "    417     except (DeprecationWarning, FutureWarning) as e:\n",
    "\n",
    "AssertionError: \n",
    "Items are not equal:\n",
    " ACTUAL: 2\n",
    " DESIRED: 3\n",
    " ```"
   ]
  },
  {
   "cell_type": "markdown",
   "metadata": {
    "id": "vv1AtgjXU6GW"
   },
   "source": [
    "É essencial que todo seu código execute sem erros! Portanto, antes de submeter clique em `Kernel` no menu acima. Depois clique em `Restart & Execute All.`\n",
    "\n",
    "**Garanta que o notebook executa até o fim!** Isto é, sem erros como o acima."
   ]
  },
  {
   "cell_type": "markdown",
   "metadata": {
    "id": "P0MOfIezU6GX"
   },
   "source": [
    "## Funções em Python"
   ]
  },
  {
   "cell_type": "markdown",
   "metadata": {
    "id": "A6c6SfG3U6GX"
   },
   "source": [
    "Para criar uma função em Python fazemos uso da palavra-chave: \n",
    "```python\n",
    "def\n",
    "```\n",
    "\n",
    "Todos nossos exercícios farão uso de funções. **Mantenha a assinatura das funções exatamente como requisitado, a correção automática depende disso.** Abaixo, temos um exempo de uma função que imprime algo na tela!"
   ]
  },
  {
   "cell_type": "code",
   "execution_count": null,
   "metadata": {
    "id": "wOj4hx5OU6GX"
   },
   "outputs": [],
   "source": [
    "def print_something(txt):\n",
    "    print(f'Você passou o argumento: {txt}')"
   ]
  },
  {
   "cell_type": "code",
   "execution_count": null,
   "metadata": {
    "id": "gVooal5WU6GX",
    "outputId": "46a9e599-cbaa-4321-d288-e65a179e2f86"
   },
   "outputs": [
    {
     "name": "stdout",
     "output_type": "stream",
     "text": [
      "Você passou o argumento: DCC 212\n"
     ]
    }
   ],
   "source": [
    "print_something('DCC 212')"
   ]
  },
  {
   "cell_type": "markdown",
   "metadata": {
    "id": "bO9tJwhMU6GY"
   },
   "source": [
    "Podemos também dizer o tipo do argumento, porém faremos pouco uso disto em ICD."
   ]
  },
  {
   "cell_type": "code",
   "execution_count": null,
   "metadata": {
    "id": "3RaWjDqfU6GY"
   },
   "outputs": [],
   "source": [
    "def print_something(txt: str):\n",
    "    print(f'Você passou o argumento: {txt}')"
   ]
  },
  {
   "cell_type": "code",
   "execution_count": null,
   "metadata": {
    "id": "WySeQcv8U6GZ",
    "outputId": "d4eb3893-e68d-4e8a-daec-64ca880e3083"
   },
   "outputs": [
    {
     "name": "stdout",
     "output_type": "stream",
     "text": [
      "Você passou o argumento: DCC 212\n"
     ]
    }
   ],
   "source": [
    "print_something('DCC 212')"
   ]
  },
  {
   "cell_type": "markdown",
   "metadata": {
    "id": "5LEuJIQVU6GZ"
   },
   "source": [
    "Abaixo temos uma função que soma, a soma, dois vetores"
   ]
  },
  {
   "cell_type": "code",
   "execution_count": null,
   "metadata": {
    "id": "cpBenKbgU6Ga"
   },
   "outputs": [],
   "source": [
    "def sum_of_sum_vectors(array_1, array_2):\n",
    "    return (array_1 + array_2).sum()"
   ]
  },
  {
   "cell_type": "code",
   "execution_count": null,
   "metadata": {
    "id": "Y5ttHT_sU6Ga"
   },
   "outputs": [],
   "source": [
    "x = np.array([1, 2])\n",
    "y = np.array([1, 2])"
   ]
  },
  {
   "cell_type": "code",
   "execution_count": null,
   "metadata": {
    "id": "mp6LAtOuU6Ga",
    "outputId": "ba0254d0-404b-49ae-d4ad-fdf0feb7a381"
   },
   "outputs": [
    {
     "data": {
      "text/plain": [
       "6"
      ]
     },
     "execution_count": 52,
     "metadata": {
      "tags": []
     },
     "output_type": "execute_result"
    }
   ],
   "source": [
    "sum_of_sum_vectors(x, y)"
   ]
  },
  {
   "cell_type": "markdown",
   "metadata": {
    "id": "7zW1qlvzU6Gb"
   },
   "source": [
    "Abaixo temos um teste, tais testes vão avaliar o seu código. Nem todos estão aqui no notebook!"
   ]
  },
  {
   "cell_type": "code",
   "execution_count": null,
   "metadata": {
    "id": "uovcNzHXU6Gb"
   },
   "outputs": [],
   "source": [
    "assert_equal(6, sum_of_sum_vectors(x, y))"
   ]
  },
  {
   "cell_type": "markdown",
   "metadata": {
    "id": "VdwvX1eAU6Gb"
   },
   "source": [
    "## Exercício 01\n",
    "\n",
    "Inicialmente, crie uma função que recebe duas listas de numéros, converte as duas para um vetor numpy usando `np.array` e retorna o produto interno das duas listas. \n",
    "\n",
    "__Dicas:__  \n",
    "1. Tente fazer um código sem nenhum **for**! Ou seja, numpy permite operações em vetores e matrizes, onde: `np.array([1, 2]) + np.array([2, 2]) = np.array([3, 4])`.\n",
    "\n",
    "__Funções:__\n",
    "1. `np.sum(array)` soma os elementos do array. `array.sum()` tem o mesmo efeito!"
   ]
  },
  {
   "cell_type": "code",
   "execution_count": null,
   "metadata": {
    "id": "ufvUi8i2U6Gc"
   },
   "outputs": [],
   "source": [
    "def inner(array_1, array_2):\n",
    "    # Seu código aqui!\n",
    "    # Apague o return None abaixo e mude para seu retorno\n",
    "    return None"
   ]
  },
  {
   "cell_type": "code",
   "execution_count": null,
   "metadata": {
    "id": "QA2WPk4cU6Gc",
    "outputId": "9013ed5c-c0b3-402e-819c-50b6cdbab5b8"
   },
   "outputs": [
    {
     "ename": "AssertionError",
     "evalue": "\nItems are not equal:\n ACTUAL: 8420\n DESIRED: None",
     "output_type": "error",
     "traceback": [
      "\u001b[0;31m-----------------------------------------------------------------------\u001b[0m",
      "\u001b[0;31mAssertionError\u001b[0m                        Traceback (most recent call last)",
      "\u001b[0;32m<ipython-input-55-036b81e3788e>\u001b[0m in \u001b[0;36m<module>\u001b[0;34m\u001b[0m\n\u001b[1;32m      1\u001b[0m \u001b[0mx1\u001b[0m \u001b[0;34m=\u001b[0m \u001b[0mnp\u001b[0m\u001b[0;34m.\u001b[0m\u001b[0marray\u001b[0m\u001b[0;34m(\u001b[0m\u001b[0;34m[\u001b[0m\u001b[0;36m2\u001b[0m\u001b[0;34m,\u001b[0m \u001b[0;36m4\u001b[0m\u001b[0;34m,\u001b[0m \u001b[0;36m8\u001b[0m\u001b[0;34m]\u001b[0m\u001b[0;34m)\u001b[0m\u001b[0;34m\u001b[0m\u001b[0;34m\u001b[0m\u001b[0m\n\u001b[1;32m      2\u001b[0m \u001b[0mx2\u001b[0m \u001b[0;34m=\u001b[0m \u001b[0mnp\u001b[0m\u001b[0;34m.\u001b[0m\u001b[0marray\u001b[0m\u001b[0;34m(\u001b[0m\u001b[0;34m[\u001b[0m\u001b[0;36m10\u001b[0m\u001b[0;34m,\u001b[0m \u001b[0;36m100\u001b[0m\u001b[0;34m,\u001b[0m \u001b[0;36m1000\u001b[0m\u001b[0;34m]\u001b[0m\u001b[0;34m)\u001b[0m\u001b[0;34m\u001b[0m\u001b[0;34m\u001b[0m\u001b[0m\n\u001b[0;32m----> 3\u001b[0;31m \u001b[0massert_equal\u001b[0m\u001b[0;34m(\u001b[0m\u001b[0;36m20\u001b[0m \u001b[0;34m+\u001b[0m \u001b[0;36m400\u001b[0m \u001b[0;34m+\u001b[0m \u001b[0;36m8000\u001b[0m\u001b[0;34m,\u001b[0m \u001b[0minner\u001b[0m\u001b[0;34m(\u001b[0m\u001b[0mx1\u001b[0m\u001b[0;34m,\u001b[0m \u001b[0mx2\u001b[0m\u001b[0;34m)\u001b[0m\u001b[0;34m)\u001b[0m\u001b[0;34m\u001b[0m\u001b[0;34m\u001b[0m\u001b[0m\n\u001b[0m",
      "\u001b[0;32m~/miniconda3/lib/python3.7/site-packages/numpy/testing/_private/utils.py\u001b[0m in \u001b[0;36massert_equal\u001b[0;34m(actual, desired, err_msg, verbose)\u001b[0m\n\u001b[1;32m    378\u001b[0m     \u001b[0;31m# isscalar test to check cases such as [np.nan] != np.nan\u001b[0m\u001b[0;34m\u001b[0m\u001b[0;34m\u001b[0m\u001b[0;34m\u001b[0m\u001b[0m\n\u001b[1;32m    379\u001b[0m     \u001b[0;32mif\u001b[0m \u001b[0misscalar\u001b[0m\u001b[0;34m(\u001b[0m\u001b[0mdesired\u001b[0m\u001b[0;34m)\u001b[0m \u001b[0;34m!=\u001b[0m \u001b[0misscalar\u001b[0m\u001b[0;34m(\u001b[0m\u001b[0mactual\u001b[0m\u001b[0;34m)\u001b[0m\u001b[0;34m:\u001b[0m\u001b[0;34m\u001b[0m\u001b[0;34m\u001b[0m\u001b[0m\n\u001b[0;32m--> 380\u001b[0;31m         \u001b[0;32mraise\u001b[0m \u001b[0mAssertionError\u001b[0m\u001b[0;34m(\u001b[0m\u001b[0mmsg\u001b[0m\u001b[0;34m)\u001b[0m\u001b[0;34m\u001b[0m\u001b[0;34m\u001b[0m\u001b[0m\n\u001b[0m\u001b[1;32m    381\u001b[0m \u001b[0;34m\u001b[0m\u001b[0m\n\u001b[1;32m    382\u001b[0m     \u001b[0;31m# Inf/nan/negative zero handling\u001b[0m\u001b[0;34m\u001b[0m\u001b[0;34m\u001b[0m\u001b[0;34m\u001b[0m\u001b[0m\n",
      "\u001b[0;31mAssertionError\u001b[0m: \nItems are not equal:\n ACTUAL: 8420\n DESIRED: None"
     ]
    }
   ],
   "source": [
    "x1 = np.array([2, 4, 8])\n",
    "x2 = np.array([10, 100, 1000])\n",
    "assert_equal(20 + 400 + 8000, inner(x1, x2))"
   ]
  },
  {
   "cell_type": "markdown",
   "metadata": {
    "id": "aIkiFO-AU6Gd"
   },
   "source": [
    "## Exercício 02\n",
    "\n",
    "Implemente uma função utilizando numpy que recebe duas matrizes, multiplica as duas e retorne o valor médio das células da multiplicação. Por exemplo, ao multiplicar:\n",
    "\n",
    "```\n",
    "[1 2]\n",
    "[3 4] \n",
    "\n",
    "com \n",
    "\n",
    "[2 1]\n",
    "[1 2]\n",
    "\n",
    "temos\n",
    "\n",
    "[4  5 ]\n",
    "[10 11]\n",
    "\n",
    "onde a média de [4, 5, 10, 11] é\n",
    "\n",
    "7.5, sua resposta final!\n",
    "```\n",
    "\n",
    "\n",
    "__Dicas:__  \n",
    "1. Use o operador @ para multiplicar matrizes!"
   ]
  },
  {
   "cell_type": "code",
   "execution_count": null,
   "metadata": {
    "id": "_8joXxQtU6Gd"
   },
   "outputs": [],
   "source": [
    "def medmult(X_1, X_2):\n",
    "    # Seu código aqui!\n",
    "    # Apague o return None abaixo e mude para seu retorno\n",
    "    return None"
   ]
  },
  {
   "cell_type": "code",
   "execution_count": null,
   "metadata": {
    "id": "kPTM53GpU6Ge",
    "outputId": "b8413169-1d54-4a6c-abda-c5b23a3ab7a1"
   },
   "outputs": [
    {
     "ename": "AssertionError",
     "evalue": "\nItems are not equal:\n ACTUAL: 7.5\n DESIRED: None",
     "output_type": "error",
     "traceback": [
      "\u001b[0;31m-----------------------------------------------------------------------\u001b[0m",
      "\u001b[0;31mAssertionError\u001b[0m                        Traceback (most recent call last)",
      "\u001b[0;32m<ipython-input-57-20ce98a4ecf3>\u001b[0m in \u001b[0;36m<module>\u001b[0;34m\u001b[0m\n\u001b[1;32m      1\u001b[0m \u001b[0mX\u001b[0m \u001b[0;34m=\u001b[0m \u001b[0mnp\u001b[0m\u001b[0;34m.\u001b[0m\u001b[0marray\u001b[0m\u001b[0;34m(\u001b[0m\u001b[0;34m[\u001b[0m\u001b[0;36m1\u001b[0m\u001b[0;34m,\u001b[0m \u001b[0;36m2\u001b[0m\u001b[0;34m,\u001b[0m \u001b[0;36m3\u001b[0m\u001b[0;34m,\u001b[0m \u001b[0;36m4\u001b[0m\u001b[0;34m]\u001b[0m\u001b[0;34m)\u001b[0m\u001b[0;34m.\u001b[0m\u001b[0mreshape\u001b[0m\u001b[0;34m(\u001b[0m\u001b[0;36m2\u001b[0m\u001b[0;34m,\u001b[0m \u001b[0;36m2\u001b[0m\u001b[0;34m)\u001b[0m\u001b[0;34m\u001b[0m\u001b[0;34m\u001b[0m\u001b[0m\n\u001b[1;32m      2\u001b[0m \u001b[0mY\u001b[0m \u001b[0;34m=\u001b[0m \u001b[0mnp\u001b[0m\u001b[0;34m.\u001b[0m\u001b[0marray\u001b[0m\u001b[0;34m(\u001b[0m\u001b[0;34m[\u001b[0m\u001b[0;36m2\u001b[0m\u001b[0;34m,\u001b[0m \u001b[0;36m1\u001b[0m\u001b[0;34m,\u001b[0m \u001b[0;36m1\u001b[0m\u001b[0;34m,\u001b[0m \u001b[0;36m2\u001b[0m\u001b[0;34m]\u001b[0m\u001b[0;34m)\u001b[0m\u001b[0;34m.\u001b[0m\u001b[0mreshape\u001b[0m\u001b[0;34m(\u001b[0m\u001b[0;36m2\u001b[0m\u001b[0;34m,\u001b[0m \u001b[0;36m2\u001b[0m\u001b[0;34m)\u001b[0m\u001b[0;34m\u001b[0m\u001b[0;34m\u001b[0m\u001b[0m\n\u001b[0;32m----> 3\u001b[0;31m \u001b[0massert_equal\u001b[0m\u001b[0;34m(\u001b[0m\u001b[0;36m7.5\u001b[0m\u001b[0;34m,\u001b[0m \u001b[0mmedmult\u001b[0m\u001b[0;34m(\u001b[0m\u001b[0mX\u001b[0m\u001b[0;34m,\u001b[0m \u001b[0mY\u001b[0m\u001b[0;34m)\u001b[0m\u001b[0;34m)\u001b[0m\u001b[0;34m\u001b[0m\u001b[0;34m\u001b[0m\u001b[0m\n\u001b[0m",
      "\u001b[0;32m~/miniconda3/lib/python3.7/site-packages/numpy/testing/_private/utils.py\u001b[0m in \u001b[0;36massert_equal\u001b[0;34m(actual, desired, err_msg, verbose)\u001b[0m\n\u001b[1;32m    378\u001b[0m     \u001b[0;31m# isscalar test to check cases such as [np.nan] != np.nan\u001b[0m\u001b[0;34m\u001b[0m\u001b[0;34m\u001b[0m\u001b[0;34m\u001b[0m\u001b[0m\n\u001b[1;32m    379\u001b[0m     \u001b[0;32mif\u001b[0m \u001b[0misscalar\u001b[0m\u001b[0;34m(\u001b[0m\u001b[0mdesired\u001b[0m\u001b[0;34m)\u001b[0m \u001b[0;34m!=\u001b[0m \u001b[0misscalar\u001b[0m\u001b[0;34m(\u001b[0m\u001b[0mactual\u001b[0m\u001b[0;34m)\u001b[0m\u001b[0;34m:\u001b[0m\u001b[0;34m\u001b[0m\u001b[0;34m\u001b[0m\u001b[0m\n\u001b[0;32m--> 380\u001b[0;31m         \u001b[0;32mraise\u001b[0m \u001b[0mAssertionError\u001b[0m\u001b[0;34m(\u001b[0m\u001b[0mmsg\u001b[0m\u001b[0;34m)\u001b[0m\u001b[0;34m\u001b[0m\u001b[0;34m\u001b[0m\u001b[0m\n\u001b[0m\u001b[1;32m    381\u001b[0m \u001b[0;34m\u001b[0m\u001b[0m\n\u001b[1;32m    382\u001b[0m     \u001b[0;31m# Inf/nan/negative zero handling\u001b[0m\u001b[0;34m\u001b[0m\u001b[0;34m\u001b[0m\u001b[0;34m\u001b[0m\u001b[0m\n",
      "\u001b[0;31mAssertionError\u001b[0m: \nItems are not equal:\n ACTUAL: 7.5\n DESIRED: None"
     ]
    }
   ],
   "source": [
    "X = np.array([1, 2, 3, 4]).reshape(2, 2)\n",
    "Y = np.array([2, 1, 1, 2]).reshape(2, 2)\n",
    "assert_equal(7.5, medmult(X, Y))"
   ]
  },
  {
   "cell_type": "code",
   "execution_count": null,
   "metadata": {
    "id": "Hp27JDTrU6Ge"
   },
   "outputs": [],
   "source": []
  }
 ],
 "metadata": {
  "colab": {
   "name": "dcc212l1.ipynb",
   "provenance": [],
   "toc_visible": true
  },
  "kernelspec": {
   "display_name": "Python 3",
   "language": "python",
   "name": "python3"
  },
  "language_info": {
   "codemirror_mode": {
    "name": "ipython",
    "version": 3
   },
   "file_extension": ".py",
   "mimetype": "text/x-python",
   "name": "python",
   "nbconvert_exporter": "python",
   "pygments_lexer": "ipython3",
   "version": "3.8.5"
  }
 },
 "nbformat": 4,
 "nbformat_minor": 1
}
