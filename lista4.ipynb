{
  "nbformat": 4,
  "nbformat_minor": 0,
  "metadata": {
    "colab": {
      "name": "lista4.ipynb",
      "provenance": [],
      "collapsed_sections": [
        "9kanULcm6e_P",
        "nWTB0e1NtN1n",
        "DbPnGld79G4s"
      ]
    },
    "kernelspec": {
      "name": "python3",
      "display_name": "Python 3"
    },
    "language_info": {
      "name": "python"
    }
  },
  "cells": [
    {
      "cell_type": "markdown",
      "metadata": {
        "id": "AumlbrSa9B6-"
      },
      "source": [
        "# Lista 3 - ICs e Bootstrap"
      ]
    },
    {
      "cell_type": "markdown",
      "metadata": {
        "id": "9kanULcm6e_P"
      },
      "source": [
        "## Intervalos de Confiança"
      ]
    },
    {
      "cell_type": "markdown",
      "metadata": {
        "id": "ZwWt4tZ9KyJW"
      },
      "source": [
        "Intervalos de confiança são intervalos calculados a partir de observações que podem variar de amostra para amostra e que com dada frequência (nível de confiança) inclui o parâmetro de interesse real não observável. \n",
        "\n",
        "**Por exemplo:** Um intervalo com nível de confiança de 99% para a média de uma variável aleatória significa que ao calcularmos *n* intervalos de confiança tomando como base *n* amostras aleatórias, espera-se que 99% dos intervalos construídos contenham o valor real do parâmetro (média).\n",
        "\n",
        "Em outras palavras, o nível de confiança seria a proporção de intervalos de confiança construídos em experimentos separados da mesma população e com o mesmo procedimento que contém o parâmetro de interesse real."
      ]
    },
    {
      "cell_type": "markdown",
      "metadata": {
        "id": "UJNKIoa66qWP"
      },
      "source": [
        "Foram ministradas duas maneiras de construírmos intervalos de confiança:\n",
        "\n",
        "- Probabilisticamente direto dos dados (Forma clássica).\n",
        "- Via sub-amostragem com reposição (*Bootstrap*)."
      ]
    },
    {
      "cell_type": "markdown",
      "metadata": {
        "id": "jnVjOUUzv_LJ"
      },
      "source": [
        "Para o primeiro caso, lembrando do conceito visto em aula, temos (para um IC com 95% de confiança):\n",
        "\n",
        "$$\\begin{align}\n",
        "0.95 = P(-z \\le Z \\le z)=P \\left(-1.96 \\le \\frac {\\bar X-\\mu}{\\sigma/\\sqrt{n}} \\le 1.96 \\right) = P \\left( \\bar X - 1.96 \\frac \\sigma {\\sqrt{n}} \\le \\mu \\le \\bar X + 1.96 \\frac \\sigma {\\sqrt{n}}\\right).\n",
        "\\end{align}$$"
      ]
    },
    {
      "cell_type": "markdown",
      "metadata": {
        "id": "KVA8KGEW8JhE"
      },
      "source": [
        "Vamos colocar na prática!"
      ]
    },
    {
      "cell_type": "markdown",
      "metadata": {
        "id": "nWTB0e1NtN1n"
      },
      "source": [
        "## Exemplo Inicial"
      ]
    },
    {
      "cell_type": "markdown",
      "metadata": {
        "id": "ZdiXKyXmQGoS"
      },
      "source": [
        "Vamos começar construindo um intervalo de confiança pra a média de uma distribuição Normal (Gaussiana) com média $\\mu = 0$ e variância $\\sigma² = 1$."
      ]
    },
    {
      "cell_type": "code",
      "metadata": {
        "colab": {
          "base_uri": "https://localhost:8080/",
          "height": 0
        },
        "id": "VF6HWP1vQmHl",
        "outputId": "b24f5d3c-0567-4541-fc81-00eae2dee831"
      },
      "source": [
        "import numpy as np\n",
        "import matplotlib.pyplot as plt\n",
        "import seaborn as sns\n",
        "import scipy.stats as ss\n",
        "plt.rcParams[\"figure.figsize\"] = (10,8)\n",
        "\n",
        "def confidence_interval(loc, scale, alpha=0.99):\n",
        "  \"\"\"Essa função cria uma distribuição Normal com base nos parâmetros fornecidos e constrói um intervalo de confiança para sua média.\n",
        "  \n",
        "  Parameters:\n",
        "  -----------\n",
        "  loc (float): Média da distribuição desejada.\n",
        "  scale (float): Desvio padrão da distribuição desejada.\n",
        "  alpha (float): Nível de confiança do intervalo. Deve ser um valor entre 0 e 1. Default = 0.99, o que corresponde a 99% de confiança.\n",
        "\n",
        "  Returns:\n",
        "  -----------\n",
        "  X (array): Dados gerados segundo uma distribuição Normal(0,1).\n",
        "  LI (float): Limite inferior do intervalo calculado.\n",
        "  LS (float): Limite superior do intervalo calculado.\n",
        "\n",
        "  \"\"\"\n",
        "  \n",
        "  # Gerando amostra de uma Normal(0,1) de tamanho N\n",
        "  N = 1000\n",
        "  X = np.random.normal(loc=loc, scale=scale, size=N)\n",
        "\n",
        "  # Criando plot da amostra gerada\n",
        "  plt.xlabel('Valores', fontsize=12)\n",
        "  plt.ylabel('Frequências', fontsize=12)\n",
        "  plt.title('Histograma de amostra de uma Distribuição Normal(0,1)', fontsize=16)\n",
        "\n",
        "  plt.hist(X, color='#A3333D', alpha=0.9, rwidth=0.85, bins=15)\n",
        "  plt.show()\n",
        "\n",
        "  # Calculando intervalo de  95% de confiança para a média manualmente\n",
        "  LI = X.mean() - 1.96 * (X.std(ddof=1) / np.sqrt(N)) # LI = limite inferior\n",
        "  LS = X.mean() + 1.96 * (X.std(ddof=1) / np.sqrt(N)) # LS = limite superior\n",
        "  print(\"INTERVALO DE CONFIANCA (manual) = [{:.4f}, {:.4f}]\".format(LI, LS))\n",
        "\n",
        "  # Utilizando o valor da confiança como base, utilizamos o pacote scipy.stats\n",
        "  LI = X.mean() - ss.norm.ppf(alpha+(1-alpha)/2).round(2) * (X.std(ddof=1) / np.sqrt(N))\n",
        "  LS = X.mean() + ss.norm.ppf(alpha+(1-alpha)/2).round(2) * (X.std(ddof=1) / np.sqrt(N))\n",
        "\n",
        "  # Printando intervalo de confiança\n",
        "  print(\"INTERVALO DE CONFIANCA (com scipy)= [{:.4f}, {:.4f}]\".format(LI, LS))\n",
        "\n",
        "  return X, LI, LS\n",
        "\n",
        "X, LI, LS = confidence_interval(loc=0, scale=1, alpha=0.95)"
      ],
      "execution_count": 75,
      "outputs": [
        {
          "output_type": "display_data",
          "data": {
            "image/png": "[encoded data removed]",
            "text/plain": [
              "<Figure size 720x576 with 1 Axes>"
            ]
          },
          "metadata": {
            "tags": [],
            "needs_background": "light"
          }
        },
        {
          "output_type": "stream",
          "text": [
            "INTERVALO DE CONFIANCA (manual) = [-0.0667, 0.0557]\n",
            "INTERVALO DE CONFIANCA (com scipy)= [-0.0667, 0.0557]\n"
          ],
          "name": "stdout"
        }
      ]
    },
    {
      "cell_type": "markdown",
      "metadata": {
        "id": "Ob__-W20QGlU"
      },
      "source": [
        "Podemos afirmar que, se pudermos repetir muitas vezes o experimento e coletarmos os dados, aproximadamente em 95% das vezes a média populacional estará no intervalo encontrado.\n",
        "\n",
        "**Algumas observações interessantes. Note que:**\n",
        "- A cada vez que executamos o código acima, tanto os intervalos como o histograma dos dados são diferentes. Estamos realizando uma amostra de uma distribuição.\n",
        "- A medida que o tamanho da amostra (N) cresce, o tamanho do intervalo - para um mesmo nível de confiança - cai. Isso ocorre pois com mais dados temos uma maior certeza de que os valores encontrados de fato representam a população de interesse.\n",
        "- Os valores dos intervalos de confiança (manual e scipy) só coincidem quando *alpha=0.95*. Essa é a vantagem de se utilizar o pacote. Para valores diferentes de 0.95, deve-se consultar o valor correspondente na distribuição Z."
      ]
    },
    {
      "cell_type": "markdown",
      "metadata": {
        "id": "DbPnGld79G4s"
      },
      "source": [
        "## Dados ENEM 2015."
      ]
    },
    {
      "cell_type": "markdown",
      "metadata": {
        "id": "-V5G53Xm7CDL"
      },
      "source": [
        "Nos exercícios dessa seção vamos trabalhar com os dados do [ENEM 2015](https://raw.githubusercontent.com/pedroharaujo/ICD_Docencia/master/enem2015.csv).\n",
        "\n",
        "Importando pandas e carregando dados."
      ]
    },
    {
      "cell_type": "code",
      "metadata": {
        "id": "yv4wKf8XKkqc"
      },
      "source": [
        "import pandas as pd\n",
        "\n",
        "url = 'https://raw.githubusercontent.com/pedroharaujo/ICD_Docencia/master/enem2015.csv'\n",
        "data = pd.read_csv(url)"
      ],
      "execution_count": 76,
      "outputs": []
    },
    {
      "cell_type": "markdown",
      "metadata": {
        "id": "Zuz-TU799Wm2"
      },
      "source": [
        "Primeiras visualizações do banco de dados do ENEM 2015."
      ]
    },
    {
      "cell_type": "code",
      "metadata": {
        "colab": {
          "base_uri": "https://localhost:8080/",
          "height": 0
        },
        "id": "CXXzJbG7Nb91",
        "outputId": "72f32159-b894-45f8-a8c2-4d2191d38ce3"
      },
      "source": [
        "data.head()"
      ],
      "execution_count": 77,
      "outputs": [
        {
          "output_type": "execute_result",
          "data": {
            "text/html": [
              "<div>\n",
              "<style scoped>\n",
              "    .dataframe tbody tr th:only-of-type {\n",
              "        vertical-align: middle;\n",
              "    }\n",
              "\n",
              "    .dataframe tbody tr th {\n",
              "        vertical-align: top;\n",
              "    }\n",
              "\n",
              "    .dataframe thead th {\n",
              "        text-align: right;\n",
              "    }\n",
              "</style>\n",
              "<table border=\"1\" class=\"dataframe\">\n",
              "  <thead>\n",
              "    <tr style=\"text-align: right;\">\n",
              "      <th></th>\n",
              "      <th>DEPENDENCIA_ADMINISTRATIVA</th>\n",
              "      <th>NOTA_MEDIA_ESCOLA</th>\n",
              "      <th>TAXA_DE_APROVACAO</th>\n",
              "      <th>TAXA_DE_PARTICIPACAO</th>\n",
              "    </tr>\n",
              "  </thead>\n",
              "  <tbody>\n",
              "    <tr>\n",
              "      <th>0</th>\n",
              "      <td>Federal</td>\n",
              "      <td>659.258362</td>\n",
              "      <td>92.2</td>\n",
              "      <td>96.894409</td>\n",
              "    </tr>\n",
              "    <tr>\n",
              "      <th>1</th>\n",
              "      <td>Federal</td>\n",
              "      <td>637.646728</td>\n",
              "      <td>86.5</td>\n",
              "      <td>98.717949</td>\n",
              "    </tr>\n",
              "    <tr>\n",
              "      <th>2</th>\n",
              "      <td>Estadual</td>\n",
              "      <td>556.710632</td>\n",
              "      <td>82.5</td>\n",
              "      <td>74.603180</td>\n",
              "    </tr>\n",
              "    <tr>\n",
              "      <th>3</th>\n",
              "      <td>Estadual</td>\n",
              "      <td>542.865967</td>\n",
              "      <td>70.2</td>\n",
              "      <td>54.651165</td>\n",
              "    </tr>\n",
              "    <tr>\n",
              "      <th>4</th>\n",
              "      <td>Estadual</td>\n",
              "      <td>557.379150</td>\n",
              "      <td>67.0</td>\n",
              "      <td>64.864861</td>\n",
              "    </tr>\n",
              "  </tbody>\n",
              "</table>\n",
              "</div>"
            ],
            "text/plain": [
              "  DEPENDENCIA_ADMINISTRATIVA  ...  TAXA_DE_PARTICIPACAO\n",
              "0                    Federal  ...             96.894409\n",
              "1                    Federal  ...             98.717949\n",
              "2                   Estadual  ...             74.603180\n",
              "3                   Estadual  ...             54.651165\n",
              "4                   Estadual  ...             64.864861\n",
              "\n",
              "[5 rows x 4 columns]"
            ]
          },
          "metadata": {
            "tags": []
          },
          "execution_count": 77
        }
      ]
    },
    {
      "cell_type": "code",
      "metadata": {
        "colab": {
          "base_uri": "https://localhost:8080/",
          "height": 0
        },
        "id": "toIeoUHsNjVd",
        "outputId": "be7c5fb1-7bdd-42e8-cbad-3e73e63522b8"
      },
      "source": [
        "data.describe()"
      ],
      "execution_count": 78,
      "outputs": [
        {
          "output_type": "execute_result",
          "data": {
            "text/html": [
              "<div>\n",
              "<style scoped>\n",
              "    .dataframe tbody tr th:only-of-type {\n",
              "        vertical-align: middle;\n",
              "    }\n",
              "\n",
              "    .dataframe tbody tr th {\n",
              "        vertical-align: top;\n",
              "    }\n",
              "\n",
              "    .dataframe thead th {\n",
              "        text-align: right;\n",
              "    }\n",
              "</style>\n",
              "<table border=\"1\" class=\"dataframe\">\n",
              "  <thead>\n",
              "    <tr style=\"text-align: right;\">\n",
              "      <th></th>\n",
              "      <th>NOTA_MEDIA_ESCOLA</th>\n",
              "      <th>TAXA_DE_APROVACAO</th>\n",
              "      <th>TAXA_DE_PARTICIPACAO</th>\n",
              "    </tr>\n",
              "  </thead>\n",
              "  <tbody>\n",
              "    <tr>\n",
              "      <th>count</th>\n",
              "      <td>1685.000000</td>\n",
              "      <td>1683.000000</td>\n",
              "      <td>1685.000000</td>\n",
              "    </tr>\n",
              "    <tr>\n",
              "      <th>mean</th>\n",
              "      <td>575.391745</td>\n",
              "      <td>86.044444</td>\n",
              "      <td>75.263669</td>\n",
              "    </tr>\n",
              "    <tr>\n",
              "      <th>std</th>\n",
              "      <td>40.796223</td>\n",
              "      <td>10.334011</td>\n",
              "      <td>16.886193</td>\n",
              "    </tr>\n",
              "    <tr>\n",
              "      <th>min</th>\n",
              "      <td>487.007141</td>\n",
              "      <td>47.700000</td>\n",
              "      <td>50.000000</td>\n",
              "    </tr>\n",
              "    <tr>\n",
              "      <th>25%</th>\n",
              "      <td>544.937500</td>\n",
              "      <td>79.500000</td>\n",
              "      <td>59.615387</td>\n",
              "    </tr>\n",
              "    <tr>\n",
              "      <th>50%</th>\n",
              "      <td>561.520752</td>\n",
              "      <td>87.800000</td>\n",
              "      <td>72.916672</td>\n",
              "    </tr>\n",
              "    <tr>\n",
              "      <th>75%</th>\n",
              "      <td>607.530579</td>\n",
              "      <td>94.550000</td>\n",
              "      <td>92.857140</td>\n",
              "    </tr>\n",
              "    <tr>\n",
              "      <th>max</th>\n",
              "      <td>713.629028</td>\n",
              "      <td>100.000000</td>\n",
              "      <td>100.000000</td>\n",
              "    </tr>\n",
              "  </tbody>\n",
              "</table>\n",
              "</div>"
            ],
            "text/plain": [
              "       NOTA_MEDIA_ESCOLA  TAXA_DE_APROVACAO  TAXA_DE_PARTICIPACAO\n",
              "count        1685.000000        1683.000000           1685.000000\n",
              "mean          575.391745          86.044444             75.263669\n",
              "std            40.796223          10.334011             16.886193\n",
              "min           487.007141          47.700000             50.000000\n",
              "25%           544.937500          79.500000             59.615387\n",
              "50%           561.520752          87.800000             72.916672\n",
              "75%           607.530579          94.550000             92.857140\n",
              "max           713.629028         100.000000            100.000000"
            ]
          },
          "metadata": {
            "tags": []
          },
          "execution_count": 78
        }
      ]
    },
    {
      "cell_type": "markdown",
      "metadata": {
        "id": "rGEHgaEBQGis"
      },
      "source": [
        "## Exercício 01"
      ]
    },
    {
      "cell_type": "markdown",
      "metadata": {
        "id": "SjLpnwC19vcV"
      },
      "source": [
        "Altere a função a baixo para retornar o intervalo de confiança para a média da variável 'NOTA_MEDIA_ESCOLA' para escolas com 'DEPENDENCIA_ADMINISTRATIVA' == Estadual.\n",
        "\n",
        "Nível de confiança: 99%\n",
        "\n",
        "**Lembrete**: será necessário aplicar os conhecimentos de pandas do módulo anterior para filtrar o DataFrame selecionando apenas os casos de interesse."
      ]
    },
    {
      "cell_type": "code",
      "metadata": {
        "id": "7nAXnIpk6tPr"
      },
      "source": [
        "def CI(array):\n",
        "  array = array[array['DEPENDENCIA_ADMINISTRATIVA'] == 'Estadual']\n",
        "  resultados = []\n",
        "  for i in range(len(array['NOTA_MEDIA_ESCOLA'])):\n",
        "      resultados.append(array['NOTA_MEDIA_ESCOLA'])\n",
        "  std = np.std(resultados, ddof=1)\n",
        "  std_over_n = std / np.sqrt(len(resultados))\n",
        "  mean = np.mean(resultados)\n",
        "  inferior = mean - 2.58 * std_over_n\n",
        "  superior = mean + 2.58 * std_over_n\n",
        "  return [ inferior, superior ]"
      ],
      "execution_count": 79,
      "outputs": []
    },
    {
      "cell_type": "markdown",
      "metadata": {
        "id": "tpE-OB2A-eI5"
      },
      "source": [
        "Carregando os módulos de testes!"
      ]
    },
    {
      "cell_type": "code",
      "metadata": {
        "id": "Eynd-EnyNkuq"
      },
      "source": [
        "from numpy.testing import assert_almost_equal\n",
        "from numpy.testing import assert_equal\n",
        "\n",
        "from numpy.testing import assert_array_almost_equal\n",
        "from numpy.testing import assert_array_equal"
      ],
      "execution_count": 80,
      "outputs": []
    },
    {
      "cell_type": "markdown",
      "metadata": {
        "id": "7GjnqG_DRRX2"
      },
      "source": [
        "Nosso teste"
      ]
    },
    {
      "cell_type": "code",
      "metadata": {
        "id": "fB3QNl7iRRX2"
      },
      "source": [
        "# (LI, LS) = CI(data)\n",
        "\n",
        "# assert_equal(548.13, LI.round(2))\n",
        "# assert_equal(551.09, LS.round(2))"
      ],
      "execution_count": 81,
      "outputs": []
    },
    {
      "cell_type": "markdown",
      "metadata": {
        "id": "ZoqeIRs6tAeJ"
      },
      "source": [
        "## Exercício 02 (Sem correção automática)"
      ]
    },
    {
      "cell_type": "markdown",
      "metadata": {
        "id": "AoNoA0HQzGI9"
      },
      "source": [
        "Plote uma CDF da coluna 'TAXA_DE_APROVACAO'.\n",
        "\n",
        "**Use o statsmodels e crie um objeto `ecdf = ECDF(...)`.**\n",
        "\n",
        "\n",
        "Esta tarefa não tem correção automática, use o gráfico abaixo para saber se acertou ou não.\n",
        "\n",
        "![](https://github.com/pedroharaujo/ICD_Docencia/blob/master/ECDF.png?raw=true)"
      ]
    },
    {
      "cell_type": "code",
      "metadata": {
        "id": "6bGem0S0zOb2"
      },
      "source": [
        "\n",
        "# codigo para importar a função ECDF\n",
        "from statsmodels.distributions.empirical_distribution import ECDF\n",
        "import matplotlib.pyplot as plt"
      ],
      "execution_count": 82,
      "outputs": []
    },
    {
      "cell_type": "code",
      "metadata": {
        "id": "QWq52qQp2u3A",
        "colab": {
          "base_uri": "https://localhost:8080/",
          "height": 500
        },
        "outputId": "7943417b-3cf6-44c0-b269-0c68bd4f0079"
      },
      "source": [
        "ecdf = ECDF(data['TAXA_DE_APROVACAO'])\n",
        "plt.plot(ecdf.x, ecdf.y)"
      ],
      "execution_count": 83,
      "outputs": [
        {
          "output_type": "execute_result",
          "data": {
            "text/plain": [
              "[<matplotlib.lines.Line2D at 0x7f38b40c5250>]"
            ]
          },
          "metadata": {
            "tags": []
          },
          "execution_count": 83
        },
        {
          "output_type": "display_data",
          "data": {
            "image/png": "[encoded data removed]",
            "text/plain": [
              "<Figure size 720x576 with 1 Axes>"
            ]
          },
          "metadata": {
            "tags": [],
            "needs_background": "light"
          }
        }
      ]
    },
    {
      "cell_type": "markdown",
      "metadata": {
        "id": "FLwdrfiTCqo9"
      },
      "source": [
        "## Bootstrap"
      ]
    },
    {
      "cell_type": "markdown",
      "metadata": {
        "id": "6VmU_-Q2qAmo"
      },
      "source": [
        "Quando falamos em bootstrap deve-se ter em mente que estamos falando de amostragem com reposição.\n",
        "\n",
        "De maneira simplista, utilizamos bootstrap quando queremos construir um intervalo de confiança para uma variável e dispomos de poucos dados. Ao realizarmos várias sub-amostras **com reposição**, a lei dos grandes números nos garante que estamos aproximando a população de interesse.\n",
        "\n",
        "Note o destaque para o termo com reposição. É CRUCIAL que as sub-amostras sejam feitas com reposição. Só assim garantimos a aleatoriedade!\n",
        "\n",
        "Veja o exemplo abaixo."
      ]
    },
    {
      "cell_type": "code",
      "metadata": {
        "id": "HusB0hXVAXHD"
      },
      "source": [
        "col = 'TAXA_DE_PARTICIPACAO'\n",
        "n_sub = 10000 #numero de sub-amostras\n",
        "size = len(data) #tamanho do dataframe\n",
        "values = np.zeros(n_sub)\n",
        "\n",
        "def bootstrap(n_sub, size, col):\n",
        "  for i in range(n_sub):\n",
        "    # replace=TRUE garanta amostras com reposição\n",
        "    # random_state=i garante replicabilidade do experimento\n",
        "    sample = data.sample(size, replace=True, random_state=i) \n",
        "    \n",
        "    # Lembre que podemos utilizar mediana, média ou qualquer outra estatística agregada\n",
        "    # values[i] = sample[col].median()\n",
        "    values[i] = sample[col].mean()\n",
        "  \n",
        "  # Gerando valores inferior e superior para um nível de confiança de 95%\n",
        "  LI = np.percentile(values, 2.5)\n",
        "  LS = np.percentile(values, 97.5)\n",
        "  return values, LI, LS\n",
        "# values, LI, LS = bootstrap(n_sub, size, col)\n",
        "# print('Intervalo de Confianca: [{}, {}]'.format(LI.round(4), LS.round(4)))"
      ],
      "execution_count": 84,
      "outputs": []
    },
    {
      "cell_type": "markdown",
      "metadata": {
        "id": "Nh2ftLwCuA-0"
      },
      "source": [
        "## Exercício 03"
      ]
    },
    {
      "cell_type": "markdown",
      "metadata": {
        "id": "snm4iPdYtf-l"
      },
      "source": [
        "Realizando um groupy pela coluna 'DEPENDENCIA_ADMINISTRATIVA' conseguimos observar para quais casos vale a pena utilizarmos bootstrap."
      ]
    },
    {
      "cell_type": "code",
      "metadata": {
        "id": "lecmZMWcpIkl",
        "colab": {
          "base_uri": "https://localhost:8080/",
          "height": 204
        },
        "outputId": "8d00cecf-e349-4396-ec3a-c1c7a7ed7888"
      },
      "source": [
        "data.groupby('DEPENDENCIA_ADMINISTRATIVA').count()"
      ],
      "execution_count": 85,
      "outputs": [
        {
          "output_type": "execute_result",
          "data": {
            "text/html": [
              "<div>\n",
              "<style scoped>\n",
              "    .dataframe tbody tr th:only-of-type {\n",
              "        vertical-align: middle;\n",
              "    }\n",
              "\n",
              "    .dataframe tbody tr th {\n",
              "        vertical-align: top;\n",
              "    }\n",
              "\n",
              "    .dataframe thead th {\n",
              "        text-align: right;\n",
              "    }\n",
              "</style>\n",
              "<table border=\"1\" class=\"dataframe\">\n",
              "  <thead>\n",
              "    <tr style=\"text-align: right;\">\n",
              "      <th></th>\n",
              "      <th>NOTA_MEDIA_ESCOLA</th>\n",
              "      <th>TAXA_DE_APROVACAO</th>\n",
              "      <th>TAXA_DE_PARTICIPACAO</th>\n",
              "    </tr>\n",
              "    <tr>\n",
              "      <th>DEPENDENCIA_ADMINISTRATIVA</th>\n",
              "      <th></th>\n",
              "      <th></th>\n",
              "      <th></th>\n",
              "    </tr>\n",
              "  </thead>\n",
              "  <tbody>\n",
              "    <tr>\n",
              "      <th>Estadual</th>\n",
              "      <td>1054</td>\n",
              "      <td>1054</td>\n",
              "      <td>1054</td>\n",
              "    </tr>\n",
              "    <tr>\n",
              "      <th>Federal</th>\n",
              "      <td>43</td>\n",
              "      <td>42</td>\n",
              "      <td>43</td>\n",
              "    </tr>\n",
              "    <tr>\n",
              "      <th>Municipal</th>\n",
              "      <td>22</td>\n",
              "      <td>22</td>\n",
              "      <td>22</td>\n",
              "    </tr>\n",
              "    <tr>\n",
              "      <th>Privada</th>\n",
              "      <td>566</td>\n",
              "      <td>565</td>\n",
              "      <td>566</td>\n",
              "    </tr>\n",
              "  </tbody>\n",
              "</table>\n",
              "</div>"
            ],
            "text/plain": [
              "                            NOTA_MEDIA_ESCOLA  ...  TAXA_DE_PARTICIPACAO\n",
              "DEPENDENCIA_ADMINISTRATIVA                     ...                      \n",
              "Estadual                                 1054  ...                  1054\n",
              "Federal                                    43  ...                    43\n",
              "Municipal                                  22  ...                    22\n",
              "Privada                                   566  ...                   566\n",
              "\n",
              "[4 rows x 3 columns]"
            ]
          },
          "metadata": {
            "tags": []
          },
          "execution_count": 85
        }
      ]
    },
    {
      "cell_type": "markdown",
      "metadata": {
        "id": "cMQteG5et_wj"
      },
      "source": [
        "**A)** Na função abaixo, retorne o número da opção que indica para quais 'DEPENDENCIAS_ADMINISTRATIVAS' é aconselhado utilizar Bootstrap para construção do intervalo de confiança:\n",
        "\n",
        "- 1) Estadual e Federal.\n",
        "- 2) Estadual e Municipal.\n",
        "- 3) Estadual e Privada.\n",
        "- 4) Federal e Municipal.\n",
        "- 5) Federal e Privada.\n",
        "- 6) Municipal e Privada."
      ]
    },
    {
      "cell_type": "code",
      "metadata": {
        "id": "VKRjH8ZxpPdv"
      },
      "source": [
        "def resposta():\n",
        "  return 4"
      ],
      "execution_count": 86,
      "outputs": []
    },
    {
      "cell_type": "code",
      "metadata": {
        "id": "C0po63eTvz5k"
      },
      "source": [
        "# assert_equal(4, resposta())"
      ],
      "execution_count": 87,
      "outputs": []
    },
    {
      "cell_type": "markdown",
      "metadata": {
        "id": "Yfd0Qm3xw4wL"
      },
      "source": [
        "**B)** Construa um intervalo de confiança via Bootstrap para a média da variável 'NOTA_MEDIA_ESCOLA' para escolas de 'DEPENDENCIA_ADMINISTRATIVA' **Federal**. Você deve utilizar 5000 amostras e nível de confiança de 90%.\n",
        "\n",
        "*Nota*: você deve utilizar o argumento random_state=i na função data.sample, como no exemplo inicial da seção de Bootstrap."
      ]
    },
    {
      "cell_type": "code",
      "metadata": {
        "id": "eHLyqTxd0u6g"
      },
      "source": [
        "def bootstrap_mean(n_sub, alpha):\n",
        "  values = np.zeros(n_sub)\n",
        "  for i in range(n_sub):\n",
        "    federal = data[data['DEPENDENCIA_ADMINISTRATIVA'] == 'Federal']\n",
        "\n",
        "    sample = federal.sample(len(federal), replace=True, random_state=i) \n",
        "    \n",
        "    # Lembre que podemos utilizar mediana, média ou qualquer outra estatística agregada\n",
        "    # values[i] = sample[col].median()\n",
        "    values[i] = sample['NOTA_MEDIA_ESCOLA'].mean()\n",
        "  \n",
        "  # Gerando valores inferior e superior para um nível de confiança de 95%\n",
        "  LI = np.percentile(values, 5)\n",
        "  LS = np.percentile(values, 95)\n",
        "  return values, (LI, LS)"
      ],
      "execution_count": 88,
      "outputs": []
    },
    {
      "cell_type": "code",
      "metadata": {
        "id": "-C0BkpeW1QlF"
      },
      "source": [
        "# values, (LI, LS) = bootstrap_mean(n_sub=5000, alpha=0.9)\n",
        "# assert_equal(622.0254, round(LI, 4))\n",
        "# assert_equal(635.428, round(LS,4))"
      ],
      "execution_count": 89,
      "outputs": []
    },
    {
      "cell_type": "markdown",
      "metadata": {
        "id": "jQltzed7WC_7"
      },
      "source": [
        "## Exercício 4"
      ]
    },
    {
      "cell_type": "markdown",
      "metadata": {
        "id": "qZq7arokWPb4"
      },
      "source": [
        "Altere a função abaixo para que retorne a 'DEPENDENCIA_ADMINISTRATIVA' (Federal, Estadual, Municipal ou Privada) cujo intervalo de confiança para *mediana* via *bootstrap* para a variável 'TAXA_DE_PARTICIPACAO' apresente maior amplitude (LS-LI), e qual esse valor. \n",
        "\n",
        "Utilize:\n",
        "- 95% como nível de confiança.\n",
        "- 5000 como número de sub-amostras."
      ]
    },
    {
      "cell_type": "code",
      "metadata": {
        "id": "Ztgw_idYZnQ3"
      },
      "source": [
        "def ci_amplitude():\n",
        "  n_sub = 5000\n",
        "  values_f = np.zeros(n_sub)\n",
        "  values_e = np.zeros(n_sub)\n",
        "  values_m = np.zeros(n_sub)\n",
        "  values_p = np.zeros(n_sub)\n",
        "  for i in range(n_sub):\n",
        "    federal = data[data['DEPENDENCIA_ADMINISTRATIVA'] == 'Federal']\n",
        "    estadual = data[data['DEPENDENCIA_ADMINISTRATIVA'] == 'Estadual']\n",
        "    municipal = data[data['DEPENDENCIA_ADMINISTRATIVA'] == 'Municipal']\n",
        "    privada = data[data['DEPENDENCIA_ADMINISTRATIVA'] == 'Privada']\n",
        "\n",
        "    sample_f = federal.sample(len(federal), replace=True, random_state=i) \n",
        "    sample_e = estadual.sample(len(estadual), replace=True, random_state=i) \n",
        "    sample_m = municipal.sample(len(municipal), replace=True, random_state=i) \n",
        "    sample_p = privada.sample(len(privada), replace=True, random_state=i) \n",
        "    \n",
        "    # Lembre que podemos utilizar mediana, média ou qualquer outra estatística agregada\n",
        "    # values[i] = sample[col].median()\n",
        "    values_f[i] = sample_f['TAXA_DE_PARTICIPACAO'].median()\n",
        "    values_e[i] = sample_e['TAXA_DE_PARTICIPACAO'].median()\n",
        "    values_m[i] = sample_m['TAXA_DE_PARTICIPACAO'].median()\n",
        "    values_p[i] = sample_p['TAXA_DE_PARTICIPACAO'].median()\n",
        "  \n",
        "  # Gerando valores inferior e superior para um nível de confiança de 95%\n",
        "  LI_f = np.percentile(values_f, 2.5)\n",
        "  LS_f = np.percentile(values_f, 97.5)\n",
        "  amp_f = LS_f-LI_f\n",
        "  dep = 'Federal'\n",
        "  amp_max = amp_f\n",
        "\n",
        "  LI_e = np.percentile(values_e, 2.5)\n",
        "  LS_e = np.percentile(values_e, 97.5)\n",
        "  amp_e = LS_e-LI_e\n",
        "  if amp_e > amp_max:\n",
        "    dep = 'Estadual'\n",
        "    amp_max = amp_e\n",
        "\n",
        "\n",
        "  LI_m = np.percentile(values_m, 2.5)\n",
        "  LS_m = np.percentile(values_m, 97.5)\n",
        "  amp_m = LS_m-LI_m\n",
        "  if amp_m > amp_max:\n",
        "    dep = 'Municipal'\n",
        "    amp_max = amp_m\n",
        "\n",
        "  LI_p = np.percentile(values_p, 2.5)\n",
        "  LS_p = np.percentile(values_p, 97.5)\n",
        "  amp_p = LS_p-LI_p\n",
        "  if amp_p > amp_max:\n",
        "    dep = 'Privada'\n",
        "    amp_max = amp_p\n",
        "\n",
        "\n",
        "  print(amp_f)\n",
        "  print(amp_m)\n",
        "  print(amp_p)\n",
        "  print(amp_e)\n",
        "\n",
        "  return dep, amp_max"
      ],
      "execution_count": 90,
      "outputs": []
    },
    {
      "cell_type": "code",
      "metadata": {
        "id": "iSM60rO4ZEPs"
      },
      "source": [
        "# (dep, amp) = ci_amplitude()\n",
        "# assert_equal(dep, 'Federal')\n",
        "# assert_equal(amp, 2.1116)"
      ],
      "execution_count": 91,
      "outputs": []
    }
  ]
}